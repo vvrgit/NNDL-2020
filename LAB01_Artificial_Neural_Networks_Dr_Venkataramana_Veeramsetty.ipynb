{
  "nbformat": 4,
  "nbformat_minor": 0,
  "metadata": {
    "kernelspec": {
      "name": "python36",
      "display_name": "Python 3.6",
      "language": "python"
    },
    "language_info": {
      "mimetype": "text/x-python",
      "nbconvert_exporter": "python",
      "name": "python",
      "pygments_lexer": "ipython3",
      "version": "3.6.6",
      "file_extension": ".py",
      "codemirror_mode": {
        "version": 3,
        "name": "ipython"
      }
    },
    "colab": {
      "name": "LAB01 - Artificial Neural Networks - Dr Venkataramana Veeramsetty.ipynb",
      "provenance": [],
      "collapsed_sections": [
        "73gmNeCkljsE",
        "Vyn-ttwKlbZ4",
        "cpGRMCP6lTsQ",
        "Ie7qVENjRvYR",
        "Vo79cYQFkeFi"
      ],
      "include_colab_link": true
    }
  },
  "cells": [
    {
      "cell_type": "markdown",
      "metadata": {
        "id": "view-in-github",
        "colab_type": "text"
      },
      "source": [
        "<a href=\"https://colab.research.google.com/github/vvrgit/NNDL-2020/blob/main/LAB01_Artificial_Neural_Networks_Dr_Venkataramana_Veeramsetty.ipynb\" target=\"_parent\"><img src=\"https://colab.research.google.com/assets/colab-badge.svg\" alt=\"Open In Colab\"/></a>"
      ]
    },
    {
      "cell_type": "code",
      "metadata": {
        "colab": {
          "base_uri": "https://localhost:8080/"
        },
        "id": "ANFo7lQPlQzw",
        "outputId": "e914756b-295e-493f-bc83-a62b7e026879"
      },
      "source": [
        "from google.colab import drive\n",
        "drive.mount('/content/drive')"
      ],
      "execution_count": 1,
      "outputs": [
        {
          "output_type": "stream",
          "name": "stdout",
          "text": [
            "Mounted at /content/drive\n"
          ]
        }
      ]
    },
    {
      "cell_type": "code",
      "metadata": {
        "id": "NTQmG_Z7lStK"
      },
      "source": [
        "import pandas as pd\n",
        "import numpy as np"
      ],
      "execution_count": 2,
      "outputs": []
    },
    {
      "cell_type": "markdown",
      "source": [
        "#ANN Without Hidden Layers and Bias and with linear activation functions"
      ],
      "metadata": {
        "id": "5Affftcu06kb"
      }
    },
    {
      "cell_type": "markdown",
      "source": [
        "![image.png](data:image/png;base64,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)"
      ],
      "metadata": {
        "id": "cDgA4kR70vqA"
      }
    },
    {
      "cell_type": "markdown",
      "source": [
        "#Data Import"
      ],
      "metadata": {
        "id": "DJNjYxz71QyG"
      }
    },
    {
      "cell_type": "code",
      "source": [
        "data=pd.read_excel(\"/content/drive/MyDrive/NNDL-Data/SampleData-00.xlsx\")\n",
        "data.head()"
      ],
      "metadata": {
        "colab": {
          "base_uri": "https://localhost:8080/",
          "height": 206
        },
        "id": "cLCOTf8Y1T4s",
        "outputId": "f6c3b856-a84e-47e8-9d70-28d1d4a6af09"
      },
      "execution_count": 106,
      "outputs": [
        {
          "output_type": "execute_result",
          "data": {
            "text/plain": [
              "     A    B    C    X\n",
              "0  0.1  0.2  0.3  2.3\n",
              "1  0.2  0.3  0.1  2.3\n",
              "2  0.2  0.5  0.4  4.1\n",
              "3  0.3  0.4  0.5  4.7\n",
              "4  0.5  0.5  0.4  5.6"
            ],
            "text/html": [
              "\n",
              "  <div id=\"df-b6598692-eb2a-4353-9f07-ddd86e98f90a\">\n",
              "    <div class=\"colab-df-container\">\n",
              "      <div>\n",
              "<style scoped>\n",
              "    .dataframe tbody tr th:only-of-type {\n",
              "        vertical-align: middle;\n",
              "    }\n",
              "\n",
              "    .dataframe tbody tr th {\n",
              "        vertical-align: top;\n",
              "    }\n",
              "\n",
              "    .dataframe thead th {\n",
              "        text-align: right;\n",
              "    }\n",
              "</style>\n",
              "<table border=\"1\" class=\"dataframe\">\n",
              "  <thead>\n",
              "    <tr style=\"text-align: right;\">\n",
              "      <th></th>\n",
              "      <th>A</th>\n",
              "      <th>B</th>\n",
              "      <th>C</th>\n",
              "      <th>X</th>\n",
              "    </tr>\n",
              "  </thead>\n",
              "  <tbody>\n",
              "    <tr>\n",
              "      <th>0</th>\n",
              "      <td>0.1</td>\n",
              "      <td>0.2</td>\n",
              "      <td>0.3</td>\n",
              "      <td>2.3</td>\n",
              "    </tr>\n",
              "    <tr>\n",
              "      <th>1</th>\n",
              "      <td>0.2</td>\n",
              "      <td>0.3</td>\n",
              "      <td>0.1</td>\n",
              "      <td>2.3</td>\n",
              "    </tr>\n",
              "    <tr>\n",
              "      <th>2</th>\n",
              "      <td>0.2</td>\n",
              "      <td>0.5</td>\n",
              "      <td>0.4</td>\n",
              "      <td>4.1</td>\n",
              "    </tr>\n",
              "    <tr>\n",
              "      <th>3</th>\n",
              "      <td>0.3</td>\n",
              "      <td>0.4</td>\n",
              "      <td>0.5</td>\n",
              "      <td>4.7</td>\n",
              "    </tr>\n",
              "    <tr>\n",
              "      <th>4</th>\n",
              "      <td>0.5</td>\n",
              "      <td>0.5</td>\n",
              "      <td>0.4</td>\n",
              "      <td>5.6</td>\n",
              "    </tr>\n",
              "  </tbody>\n",
              "</table>\n",
              "</div>\n",
              "      <button class=\"colab-df-convert\" onclick=\"convertToInteractive('df-b6598692-eb2a-4353-9f07-ddd86e98f90a')\"\n",
              "              title=\"Convert this dataframe to an interactive table.\"\n",
              "              style=\"display:none;\">\n",
              "        \n",
              "  <svg xmlns=\"http://www.w3.org/2000/svg\" height=\"24px\"viewBox=\"0 0 24 24\"\n",
              "       width=\"24px\">\n",
              "    <path d=\"M0 0h24v24H0V0z\" fill=\"none\"/>\n",
              "    <path d=\"M18.56 5.44l.94 2.06.94-2.06 2.06-.94-2.06-.94-.94-2.06-.94 2.06-2.06.94zm-11 1L8.5 8.5l.94-2.06 2.06-.94-2.06-.94L8.5 2.5l-.94 2.06-2.06.94zm10 10l.94 2.06.94-2.06 2.06-.94-2.06-.94-.94-2.06-.94 2.06-2.06.94z\"/><path d=\"M17.41 7.96l-1.37-1.37c-.4-.4-.92-.59-1.43-.59-.52 0-1.04.2-1.43.59L10.3 9.45l-7.72 7.72c-.78.78-.78 2.05 0 2.83L4 21.41c.39.39.9.59 1.41.59.51 0 1.02-.2 1.41-.59l7.78-7.78 2.81-2.81c.8-.78.8-2.07 0-2.86zM5.41 20L4 18.59l7.72-7.72 1.47 1.35L5.41 20z\"/>\n",
              "  </svg>\n",
              "      </button>\n",
              "      \n",
              "  <style>\n",
              "    .colab-df-container {\n",
              "      display:flex;\n",
              "      flex-wrap:wrap;\n",
              "      gap: 12px;\n",
              "    }\n",
              "\n",
              "    .colab-df-convert {\n",
              "      background-color: #E8F0FE;\n",
              "      border: none;\n",
              "      border-radius: 50%;\n",
              "      cursor: pointer;\n",
              "      display: none;\n",
              "      fill: #1967D2;\n",
              "      height: 32px;\n",
              "      padding: 0 0 0 0;\n",
              "      width: 32px;\n",
              "    }\n",
              "\n",
              "    .colab-df-convert:hover {\n",
              "      background-color: #E2EBFA;\n",
              "      box-shadow: 0px 1px 2px rgba(60, 64, 67, 0.3), 0px 1px 3px 1px rgba(60, 64, 67, 0.15);\n",
              "      fill: #174EA6;\n",
              "    }\n",
              "\n",
              "    [theme=dark] .colab-df-convert {\n",
              "      background-color: #3B4455;\n",
              "      fill: #D2E3FC;\n",
              "    }\n",
              "\n",
              "    [theme=dark] .colab-df-convert:hover {\n",
              "      background-color: #434B5C;\n",
              "      box-shadow: 0px 1px 3px 1px rgba(0, 0, 0, 0.15);\n",
              "      filter: drop-shadow(0px 1px 2px rgba(0, 0, 0, 0.3));\n",
              "      fill: #FFFFFF;\n",
              "    }\n",
              "  </style>\n",
              "\n",
              "      <script>\n",
              "        const buttonEl =\n",
              "          document.querySelector('#df-b6598692-eb2a-4353-9f07-ddd86e98f90a button.colab-df-convert');\n",
              "        buttonEl.style.display =\n",
              "          google.colab.kernel.accessAllowed ? 'block' : 'none';\n",
              "\n",
              "        async function convertToInteractive(key) {\n",
              "          const element = document.querySelector('#df-b6598692-eb2a-4353-9f07-ddd86e98f90a');\n",
              "          const dataTable =\n",
              "            await google.colab.kernel.invokeFunction('convertToInteractive',\n",
              "                                                     [key], {});\n",
              "          if (!dataTable) return;\n",
              "\n",
              "          const docLinkHtml = 'Like what you see? Visit the ' +\n",
              "            '<a target=\"_blank\" href=https://colab.research.google.com/notebooks/data_table.ipynb>data table notebook</a>'\n",
              "            + ' to learn more about interactive tables.';\n",
              "          element.innerHTML = '';\n",
              "          dataTable['output_type'] = 'display_data';\n",
              "          await google.colab.output.renderOutput(dataTable, element);\n",
              "          const docLink = document.createElement('div');\n",
              "          docLink.innerHTML = docLinkHtml;\n",
              "          element.appendChild(docLink);\n",
              "        }\n",
              "      </script>\n",
              "    </div>\n",
              "  </div>\n",
              "  "
            ]
          },
          "metadata": {},
          "execution_count": 106
        }
      ]
    },
    {
      "cell_type": "markdown",
      "source": [
        "#Split Data"
      ],
      "metadata": {
        "id": "K0rzTtoK1foA"
      }
    },
    {
      "cell_type": "code",
      "source": [
        "#Train-Test Split\n",
        "from sklearn.model_selection import train_test_split\n",
        "data_train,data_test=train_test_split(data,test_size=0.05,random_state=1)\n",
        "q1=len(data_train)\n",
        "q2=len(data_test)\n",
        "data_train=np.array(data_train)\n",
        "data_test=np.array(data_test)"
      ],
      "metadata": {
        "id": "C0opJWIY1lXk"
      },
      "execution_count": 102,
      "outputs": []
    },
    {
      "cell_type": "markdown",
      "source": [
        "#Random Weight Initialization"
      ],
      "metadata": {
        "id": "bMxD_lB12ooG"
      }
    },
    {
      "cell_type": "code",
      "source": [
        "#Random Weight Initialization\n",
        "weights=np.random.uniform(-10,10,size=(3,1))\n",
        "print(weights)"
      ],
      "metadata": {
        "colab": {
          "base_uri": "https://localhost:8080/"
        },
        "id": "DGLfFQBE2lU_",
        "outputId": "845ead33-7bbc-46df-8ece-99126bff27b1"
      },
      "execution_count": 107,
      "outputs": [
        {
          "output_type": "stream",
          "name": "stdout",
          "text": [
            "[[-1.3511732 ]\n",
            " [ 2.03658672]\n",
            " [-5.74080773]]\n"
          ]
        }
      ]
    },
    {
      "cell_type": "markdown",
      "source": [
        "#Neural Nets Training With SGD"
      ],
      "metadata": {
        "id": "MxUZnrq_308r"
      }
    },
    {
      "cell_type": "code",
      "source": [
        "l=0.001\n",
        "for i in range(100):\n",
        "    for j in range(q1):\n",
        "        o=np.dot(data_train[j,0:3],weights) #n.shape-1,1\n",
        "        dw=(l*(data_train[[j],3]-o))*data_train[[j],0:3].T\n",
        "        weights=weights+dw\n",
        "\n",
        "print(weights)\n",
        "print(weights.shape)"
      ],
      "metadata": {
        "colab": {
          "base_uri": "https://localhost:8080/"
        },
        "id": "X5uODjqi2wWg",
        "outputId": "154f6f74-7873-4e07-da47-bddf2ab91982"
      },
      "execution_count": 115,
      "outputs": [
        {
          "output_type": "stream",
          "name": "stdout",
          "text": [
            "[[2.5048271 ]\n",
            " [7.56588925]\n",
            " [5.22683586]]\n",
            "(3, 1)\n"
          ]
        }
      ]
    },
    {
      "cell_type": "markdown",
      "source": [
        "# Prediction with testing data"
      ],
      "metadata": {
        "id": "9-S6WH4G365g"
      }
    },
    {
      "cell_type": "code",
      "source": [
        "pred_test=np.zeros((q2,1))\n",
        "for j in range(q2):\n",
        "    n2=np.dot(data_test[j,0:3],weights) #n.shape-1,\n",
        "    pred_test[j]=n2\n",
        "pred_test "
      ],
      "metadata": {
        "colab": {
          "base_uri": "https://localhost:8080/"
        },
        "id": "rD33Wo7B2_6o",
        "outputId": "57f51ebd-b18d-4da1-c37c-5144b0e765d2"
      },
      "execution_count": 110,
      "outputs": [
        {
          "output_type": "execute_result",
          "data": {
            "text/plain": [
              "array([[6.37474083]])"
            ]
          },
          "metadata": {},
          "execution_count": 110
        }
      ]
    },
    {
      "cell_type": "markdown",
      "source": [
        "#Prediction with training data"
      ],
      "metadata": {
        "id": "PRo2psoO3_Dy"
      }
    },
    {
      "cell_type": "code",
      "source": [
        "pred_train=np.zeros((q1,1))\n",
        "for j in range(q1):\n",
        "    n2=np.dot(data_train[j,0:3],weights) #n.shape-1, \n",
        "    pred_train[j]=n2\n",
        "pred_train"
      ],
      "metadata": {
        "colab": {
          "base_uri": "https://localhost:8080/"
        },
        "id": "-OQiztr73H3j",
        "outputId": "31c38e96-bc6d-412d-fc57-abc3fef949c4"
      },
      "execution_count": 111,
      "outputs": [
        {
          "output_type": "execute_result",
          "data": {
            "text/plain": [
              "array([[6.39072146],\n",
              "       [7.12602217],\n",
              "       [7.12602217],\n",
              "       [3.29381776],\n",
              "       [3.33135018],\n",
              "       [3.33135018],\n",
              "       [3.29381776],\n",
              "       [5.83078301],\n",
              "       [6.39072146],\n",
              "       [6.37474083],\n",
              "       [5.83078301]])"
            ]
          },
          "metadata": {},
          "execution_count": 111
        }
      ]
    },
    {
      "cell_type": "markdown",
      "source": [
        "#Error Calculation"
      ],
      "metadata": {
        "id": "eLLDvIUx4Cel"
      }
    },
    {
      "cell_type": "code",
      "source": [
        "from sklearn.metrics import mean_squared_error\n",
        "print(\"Training MSE:\",mean_squared_error(data_train[:,3],pred_train))\n",
        "print(\"Testing MSE:\",mean_squared_error(data_test[:,3],pred_test))"
      ],
      "metadata": {
        "colab": {
          "base_uri": "https://localhost:8080/"
        },
        "id": "zEYVxOfI3QEJ",
        "outputId": "3de03256-4377-47d0-9777-011c19d39ab7"
      },
      "execution_count": 112,
      "outputs": [
        {
          "output_type": "stream",
          "name": "stdout",
          "text": [
            "Training MSE: 0.3732769517130052\n",
            "Testing MSE: 0.0754825213846656\n"
          ]
        }
      ]
    },
    {
      "cell_type": "markdown",
      "source": [
        "#Deployment"
      ],
      "metadata": {
        "id": "u7D49Mv34FmU"
      }
    },
    {
      "cell_type": "code",
      "source": [
        "inputvector=np.zeros((1,3))\n",
        "for j in range(3):\n",
        "  A=input(\"enter value\")\n",
        "  inputvector[0,j]=A\n",
        "Pred=np.dot(inputvector[0,0:3],weights)\n",
        "print(\"Predicted Output:\",Pred)"
      ],
      "metadata": {
        "colab": {
          "base_uri": "https://localhost:8080/"
        },
        "id": "foaynBu23myf",
        "outputId": "d91314a5-e9bf-44fd-86bc-0b059d43ff3e"
      },
      "execution_count": 114,
      "outputs": [
        {
          "output_type": "stream",
          "name": "stdout",
          "text": [
            "enter value0.2\n",
            "enter value0.3\n",
            "enter value0.1\n",
            "Predicted Output: [3.29381776]\n"
          ]
        }
      ]
    },
    {
      "cell_type": "markdown",
      "source": [
        "# ANN Without Hidden Layer and with linear activation functions and bias"
      ],
      "metadata": {
        "id": "LRrv5gGhpUsj"
      }
    },
    {
      "cell_type": "markdown",
      "source": [
        "![image.png](data:image/png;base64,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)"
      ],
      "metadata": {
        "id": "KmSm5ECbzo5u"
      }
    },
    {
      "cell_type": "markdown",
      "source": [
        "#Data Import"
      ],
      "metadata": {
        "id": "T0iztMt9yFYO"
      }
    },
    {
      "cell_type": "code",
      "source": [
        "data=pd.read_excel(\"/content/drive/MyDrive/NNDL-Data/SampleData-01.xlsx\")\n",
        "data.head()"
      ],
      "metadata": {
        "colab": {
          "base_uri": "https://localhost:8080/",
          "height": 206
        },
        "id": "5ndaZm3wpfF0",
        "outputId": "77416a0c-7181-465b-8a78-d3b616051bc8"
      },
      "execution_count": 3,
      "outputs": [
        {
          "output_type": "execute_result",
          "data": {
            "text/plain": [
              "     A    B    C    X\n",
              "0  0.1  0.2  0.3  4.3\n",
              "1  0.2  0.3  0.1  4.3\n",
              "2  0.2  0.5  0.4  6.1\n",
              "3  0.3  0.4  0.5  6.7\n",
              "4  0.5  0.5  0.4  7.6"
            ],
            "text/html": [
              "\n",
              "  <div id=\"df-bd533585-d514-46e7-b731-f0c3cb3c73da\">\n",
              "    <div class=\"colab-df-container\">\n",
              "      <div>\n",
              "<style scoped>\n",
              "    .dataframe tbody tr th:only-of-type {\n",
              "        vertical-align: middle;\n",
              "    }\n",
              "\n",
              "    .dataframe tbody tr th {\n",
              "        vertical-align: top;\n",
              "    }\n",
              "\n",
              "    .dataframe thead th {\n",
              "        text-align: right;\n",
              "    }\n",
              "</style>\n",
              "<table border=\"1\" class=\"dataframe\">\n",
              "  <thead>\n",
              "    <tr style=\"text-align: right;\">\n",
              "      <th></th>\n",
              "      <th>A</th>\n",
              "      <th>B</th>\n",
              "      <th>C</th>\n",
              "      <th>X</th>\n",
              "    </tr>\n",
              "  </thead>\n",
              "  <tbody>\n",
              "    <tr>\n",
              "      <th>0</th>\n",
              "      <td>0.1</td>\n",
              "      <td>0.2</td>\n",
              "      <td>0.3</td>\n",
              "      <td>4.3</td>\n",
              "    </tr>\n",
              "    <tr>\n",
              "      <th>1</th>\n",
              "      <td>0.2</td>\n",
              "      <td>0.3</td>\n",
              "      <td>0.1</td>\n",
              "      <td>4.3</td>\n",
              "    </tr>\n",
              "    <tr>\n",
              "      <th>2</th>\n",
              "      <td>0.2</td>\n",
              "      <td>0.5</td>\n",
              "      <td>0.4</td>\n",
              "      <td>6.1</td>\n",
              "    </tr>\n",
              "    <tr>\n",
              "      <th>3</th>\n",
              "      <td>0.3</td>\n",
              "      <td>0.4</td>\n",
              "      <td>0.5</td>\n",
              "      <td>6.7</td>\n",
              "    </tr>\n",
              "    <tr>\n",
              "      <th>4</th>\n",
              "      <td>0.5</td>\n",
              "      <td>0.5</td>\n",
              "      <td>0.4</td>\n",
              "      <td>7.6</td>\n",
              "    </tr>\n",
              "  </tbody>\n",
              "</table>\n",
              "</div>\n",
              "      <button class=\"colab-df-convert\" onclick=\"convertToInteractive('df-bd533585-d514-46e7-b731-f0c3cb3c73da')\"\n",
              "              title=\"Convert this dataframe to an interactive table.\"\n",
              "              style=\"display:none;\">\n",
              "        \n",
              "  <svg xmlns=\"http://www.w3.org/2000/svg\" height=\"24px\"viewBox=\"0 0 24 24\"\n",
              "       width=\"24px\">\n",
              "    <path d=\"M0 0h24v24H0V0z\" fill=\"none\"/>\n",
              "    <path d=\"M18.56 5.44l.94 2.06.94-2.06 2.06-.94-2.06-.94-.94-2.06-.94 2.06-2.06.94zm-11 1L8.5 8.5l.94-2.06 2.06-.94-2.06-.94L8.5 2.5l-.94 2.06-2.06.94zm10 10l.94 2.06.94-2.06 2.06-.94-2.06-.94-.94-2.06-.94 2.06-2.06.94z\"/><path d=\"M17.41 7.96l-1.37-1.37c-.4-.4-.92-.59-1.43-.59-.52 0-1.04.2-1.43.59L10.3 9.45l-7.72 7.72c-.78.78-.78 2.05 0 2.83L4 21.41c.39.39.9.59 1.41.59.51 0 1.02-.2 1.41-.59l7.78-7.78 2.81-2.81c.8-.78.8-2.07 0-2.86zM5.41 20L4 18.59l7.72-7.72 1.47 1.35L5.41 20z\"/>\n",
              "  </svg>\n",
              "      </button>\n",
              "      \n",
              "  <style>\n",
              "    .colab-df-container {\n",
              "      display:flex;\n",
              "      flex-wrap:wrap;\n",
              "      gap: 12px;\n",
              "    }\n",
              "\n",
              "    .colab-df-convert {\n",
              "      background-color: #E8F0FE;\n",
              "      border: none;\n",
              "      border-radius: 50%;\n",
              "      cursor: pointer;\n",
              "      display: none;\n",
              "      fill: #1967D2;\n",
              "      height: 32px;\n",
              "      padding: 0 0 0 0;\n",
              "      width: 32px;\n",
              "    }\n",
              "\n",
              "    .colab-df-convert:hover {\n",
              "      background-color: #E2EBFA;\n",
              "      box-shadow: 0px 1px 2px rgba(60, 64, 67, 0.3), 0px 1px 3px 1px rgba(60, 64, 67, 0.15);\n",
              "      fill: #174EA6;\n",
              "    }\n",
              "\n",
              "    [theme=dark] .colab-df-convert {\n",
              "      background-color: #3B4455;\n",
              "      fill: #D2E3FC;\n",
              "    }\n",
              "\n",
              "    [theme=dark] .colab-df-convert:hover {\n",
              "      background-color: #434B5C;\n",
              "      box-shadow: 0px 1px 3px 1px rgba(0, 0, 0, 0.15);\n",
              "      filter: drop-shadow(0px 1px 2px rgba(0, 0, 0, 0.3));\n",
              "      fill: #FFFFFF;\n",
              "    }\n",
              "  </style>\n",
              "\n",
              "      <script>\n",
              "        const buttonEl =\n",
              "          document.querySelector('#df-bd533585-d514-46e7-b731-f0c3cb3c73da button.colab-df-convert');\n",
              "        buttonEl.style.display =\n",
              "          google.colab.kernel.accessAllowed ? 'block' : 'none';\n",
              "\n",
              "        async function convertToInteractive(key) {\n",
              "          const element = document.querySelector('#df-bd533585-d514-46e7-b731-f0c3cb3c73da');\n",
              "          const dataTable =\n",
              "            await google.colab.kernel.invokeFunction('convertToInteractive',\n",
              "                                                     [key], {});\n",
              "          if (!dataTable) return;\n",
              "\n",
              "          const docLinkHtml = 'Like what you see? Visit the ' +\n",
              "            '<a target=\"_blank\" href=https://colab.research.google.com/notebooks/data_table.ipynb>data table notebook</a>'\n",
              "            + ' to learn more about interactive tables.';\n",
              "          element.innerHTML = '';\n",
              "          dataTable['output_type'] = 'display_data';\n",
              "          await google.colab.output.renderOutput(dataTable, element);\n",
              "          const docLink = document.createElement('div');\n",
              "          docLink.innerHTML = docLinkHtml;\n",
              "          element.appendChild(docLink);\n",
              "        }\n",
              "      </script>\n",
              "    </div>\n",
              "  </div>\n",
              "  "
            ]
          },
          "metadata": {},
          "execution_count": 3
        }
      ]
    },
    {
      "cell_type": "markdown",
      "source": [
        "#Split Data"
      ],
      "metadata": {
        "id": "rFlymjaFyHZ0"
      }
    },
    {
      "cell_type": "code",
      "source": [
        "#Train-Test Split\n",
        "from sklearn.model_selection import train_test_split\n",
        "data_train,data_test=train_test_split(data,test_size=0.05,random_state=1)\n",
        "q1=len(data_train)\n",
        "q2=len(data_test)\n",
        "data_train=np.array(data_train)\n",
        "data_test=np.array(data_test)"
      ],
      "metadata": {
        "id": "GsYs60WopsTD"
      },
      "execution_count": 4,
      "outputs": []
    },
    {
      "cell_type": "markdown",
      "source": [
        "#Random initilization of Weigthts and Bias Parameters"
      ],
      "metadata": {
        "id": "Fi2Fk62LyJIu"
      }
    },
    {
      "cell_type": "code",
      "source": [
        "#Random Weight Initialization\n",
        "weights=np.random.uniform(-10,10,size=(3,1))\n",
        "bias=np.random.uniform(-10,10,size=(1,1))\n",
        "print(weights)\n",
        "print(bias)"
      ],
      "metadata": {
        "colab": {
          "base_uri": "https://localhost:8080/"
        },
        "id": "62uA_sFZqD2a",
        "outputId": "655952bf-f432-48a2-b67c-6a8109db20eb"
      },
      "execution_count": 13,
      "outputs": [
        {
          "output_type": "stream",
          "name": "stdout",
          "text": [
            "[[-8.84271316]\n",
            " [ 0.71066233]\n",
            " [-0.48567582]]\n",
            "[[-9.37996592]]\n"
          ]
        }
      ]
    },
    {
      "cell_type": "markdown",
      "source": [
        "##Learning with SGD"
      ],
      "metadata": {
        "id": "kdwZHGtuyVGN"
      }
    },
    {
      "cell_type": "code",
      "source": [
        "l=0.001\n",
        "for i in range(10000):\n",
        "    for j in range(q1):\n",
        "        o=np.dot(data_train[j,0:3],weights)+bias #n.shape-1,1\n",
        "        dw=(l*(data_train[[j],3]-o))*data_train[[j],0:3].T\n",
        "        db=(l*(data_train[[j],3]-o))\n",
        "        weights=weights+dw\n",
        "        bias=bias+db\n",
        "print(bias)\n",
        "print(weights.shape)\n",
        "print(dw.shape)"
      ],
      "metadata": {
        "colab": {
          "base_uri": "https://localhost:8080/"
        },
        "id": "d4zkSZKsqTY0",
        "outputId": "4bf1abe7-f69e-4eee-f911-ceb6fef2336c"
      },
      "execution_count": 22,
      "outputs": [
        {
          "output_type": "stream",
          "name": "stdout",
          "text": [
            "[[1.80787923]]\n",
            "(3, 1)\n",
            "(3, 1)\n"
          ]
        }
      ]
    },
    {
      "cell_type": "markdown",
      "source": [
        "#Prediction on Testing Data"
      ],
      "metadata": {
        "id": "GnCNF2pUybYB"
      }
    },
    {
      "cell_type": "code",
      "source": [
        "pred_test=np.zeros((q2,1))\n",
        "for j in range(q2):\n",
        "    n2=np.dot(data_test[j,0:3],weights)+bias #n.shape-1,\n",
        "    pred_test[j]=n2\n",
        "pred_test "
      ],
      "metadata": {
        "colab": {
          "base_uri": "https://localhost:8080/"
        },
        "id": "9Z1h4pmktlt6",
        "outputId": "804e8909-563b-4efa-c807-ffd58d9faa70"
      },
      "execution_count": 23,
      "outputs": [
        {
          "output_type": "execute_result",
          "data": {
            "text/plain": [
              "array([[7.39708568]])"
            ]
          },
          "metadata": {},
          "execution_count": 23
        }
      ]
    },
    {
      "cell_type": "markdown",
      "source": [
        "#Testing Error"
      ],
      "metadata": {
        "id": "UIowLFn8yfS0"
      }
    },
    {
      "cell_type": "code",
      "source": [
        "from sklearn.metrics import mean_squared_error\n",
        "print(\"Testing MSE:\",mean_squared_error(data_test[:,3],pred_test))"
      ],
      "metadata": {
        "colab": {
          "base_uri": "https://localhost:8080/"
        },
        "id": "uoSIpckht-NZ",
        "outputId": "4f1f5b15-81d9-4dfd-ae15-2335567090d6"
      },
      "execution_count": 24,
      "outputs": [
        {
          "output_type": "stream",
          "name": "stdout",
          "text": [
            "Testing MSE: 1.6824312661585616\n"
          ]
        }
      ]
    },
    {
      "cell_type": "markdown",
      "source": [
        "#Prediction on Training Data"
      ],
      "metadata": {
        "id": "s_sC9OsFyhgD"
      }
    },
    {
      "cell_type": "code",
      "source": [
        "pred_train=np.zeros((q1,1))\n",
        "for j in range(q1):\n",
        "    n2=np.dot(data_train[j,0:3],weights)+bias #n.shape-1, \n",
        "    pred_train[j]=n2\n",
        "pred_train"
      ],
      "metadata": {
        "colab": {
          "base_uri": "https://localhost:8080/"
        },
        "id": "SWo-0NEryoFk",
        "outputId": "2b4fde3a-9cd2-438f-8d57-46d7952f69e1"
      },
      "execution_count": 26,
      "outputs": [
        {
          "output_type": "execute_result",
          "data": {
            "text/plain": [
              "array([[2.65259137],\n",
              "       [5.22602146],\n",
              "       [2.81555341],\n",
              "       [5.07855719],\n",
              "       [4.48410717]])"
            ]
          },
          "metadata": {},
          "execution_count": 26
        }
      ]
    },
    {
      "cell_type": "markdown",
      "source": [
        "#Training Error"
      ],
      "metadata": {
        "id": "aD5AMNTPysum"
      }
    },
    {
      "cell_type": "code",
      "source": [
        "from sklearn.metrics import mean_squared_error\n",
        "print(\"Training MSE:\",mean_squared_error(data_train[:,3],pred_train))"
      ],
      "metadata": {
        "colab": {
          "base_uri": "https://localhost:8080/"
        },
        "id": "5rLS857FvGvD",
        "outputId": "299ba5ea-c138-4e75-ecde-4164e5c21839"
      },
      "execution_count": 27,
      "outputs": [
        {
          "output_type": "stream",
          "name": "stdout",
          "text": [
            "Testing MSE: 3.295970903954867\n"
          ]
        }
      ]
    },
    {
      "cell_type": "markdown",
      "source": [
        "#Deployment"
      ],
      "metadata": {
        "id": "P_udbDBHyzDj"
      }
    },
    {
      "cell_type": "code",
      "source": [
        "inputvector=np.zeros((1,3))\n",
        "for j in range(3):\n",
        "  A=input(\"enter value\")\n",
        "  inputvector[0,j]=A\n",
        "Pred=np.dot(inputvector[0,0:3],weights)+bias\n",
        "print(\"Predicted Output:\",Pred)"
      ],
      "metadata": {
        "colab": {
          "base_uri": "https://localhost:8080/"
        },
        "id": "a3Koqna8vzI4",
        "outputId": "b962798b-836b-4454-fe20-87cf5ff2ad3e"
      },
      "execution_count": 28,
      "outputs": [
        {
          "output_type": "stream",
          "name": "stdout",
          "text": [
            "enter value0.1\n",
            "enter value0.2\n",
            "enter value0.3\n",
            "Predicted Output: [[4.62343264]]\n"
          ]
        }
      ]
    },
    {
      "cell_type": "markdown",
      "source": [
        "#ANN With Hidden Layer and with linear activation functions and no bias"
      ],
      "metadata": {
        "id": "X4DEJFA-z2gS"
      }
    },
    {
      "cell_type": "markdown",
      "source": [
        "![image.png](data:image/png;base64,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)"
      ],
      "metadata": {
        "id": "r9zb8HNRelQM"
      }
    },
    {
      "cell_type": "markdown",
      "source": [
        "#Data Import"
      ],
      "metadata": {
        "id": "qDaiqQAOtgVP"
      }
    },
    {
      "cell_type": "code",
      "source": [
        "data=pd.read_excel(\"/content/drive/MyDrive/NNDL-Data/SampleData_03.xlsx\")\n",
        "data.head()"
      ],
      "metadata": {
        "colab": {
          "base_uri": "https://localhost:8080/",
          "height": 206
        },
        "id": "0rdzLBHdemhQ",
        "outputId": "55130f67-85ac-467d-bc61-e31ff0d5e0af"
      },
      "execution_count": 63,
      "outputs": [
        {
          "output_type": "execute_result",
          "data": {
            "text/plain": [
              "     A    B    C         X\n",
              "0  0.1  0.2  0.3  0.734056\n",
              "1  0.2  0.3  0.1  0.782396\n",
              "2  0.2  0.5  0.4  1.349732\n",
              "3  0.3  0.4  0.5  1.519960\n",
              "4  0.5  0.5  0.4  1.849891"
            ],
            "text/html": [
              "\n",
              "  <div id=\"df-78e46c66-a670-495a-b4a8-a543cefdfde5\">\n",
              "    <div class=\"colab-df-container\">\n",
              "      <div>\n",
              "<style scoped>\n",
              "    .dataframe tbody tr th:only-of-type {\n",
              "        vertical-align: middle;\n",
              "    }\n",
              "\n",
              "    .dataframe tbody tr th {\n",
              "        vertical-align: top;\n",
              "    }\n",
              "\n",
              "    .dataframe thead th {\n",
              "        text-align: right;\n",
              "    }\n",
              "</style>\n",
              "<table border=\"1\" class=\"dataframe\">\n",
              "  <thead>\n",
              "    <tr style=\"text-align: right;\">\n",
              "      <th></th>\n",
              "      <th>A</th>\n",
              "      <th>B</th>\n",
              "      <th>C</th>\n",
              "      <th>X</th>\n",
              "    </tr>\n",
              "  </thead>\n",
              "  <tbody>\n",
              "    <tr>\n",
              "      <th>0</th>\n",
              "      <td>0.1</td>\n",
              "      <td>0.2</td>\n",
              "      <td>0.3</td>\n",
              "      <td>0.734056</td>\n",
              "    </tr>\n",
              "    <tr>\n",
              "      <th>1</th>\n",
              "      <td>0.2</td>\n",
              "      <td>0.3</td>\n",
              "      <td>0.1</td>\n",
              "      <td>0.782396</td>\n",
              "    </tr>\n",
              "    <tr>\n",
              "      <th>2</th>\n",
              "      <td>0.2</td>\n",
              "      <td>0.5</td>\n",
              "      <td>0.4</td>\n",
              "      <td>1.349732</td>\n",
              "    </tr>\n",
              "    <tr>\n",
              "      <th>3</th>\n",
              "      <td>0.3</td>\n",
              "      <td>0.4</td>\n",
              "      <td>0.5</td>\n",
              "      <td>1.519960</td>\n",
              "    </tr>\n",
              "    <tr>\n",
              "      <th>4</th>\n",
              "      <td>0.5</td>\n",
              "      <td>0.5</td>\n",
              "      <td>0.4</td>\n",
              "      <td>1.849891</td>\n",
              "    </tr>\n",
              "  </tbody>\n",
              "</table>\n",
              "</div>\n",
              "      <button class=\"colab-df-convert\" onclick=\"convertToInteractive('df-78e46c66-a670-495a-b4a8-a543cefdfde5')\"\n",
              "              title=\"Convert this dataframe to an interactive table.\"\n",
              "              style=\"display:none;\">\n",
              "        \n",
              "  <svg xmlns=\"http://www.w3.org/2000/svg\" height=\"24px\"viewBox=\"0 0 24 24\"\n",
              "       width=\"24px\">\n",
              "    <path d=\"M0 0h24v24H0V0z\" fill=\"none\"/>\n",
              "    <path d=\"M18.56 5.44l.94 2.06.94-2.06 2.06-.94-2.06-.94-.94-2.06-.94 2.06-2.06.94zm-11 1L8.5 8.5l.94-2.06 2.06-.94-2.06-.94L8.5 2.5l-.94 2.06-2.06.94zm10 10l.94 2.06.94-2.06 2.06-.94-2.06-.94-.94-2.06-.94 2.06-2.06.94z\"/><path d=\"M17.41 7.96l-1.37-1.37c-.4-.4-.92-.59-1.43-.59-.52 0-1.04.2-1.43.59L10.3 9.45l-7.72 7.72c-.78.78-.78 2.05 0 2.83L4 21.41c.39.39.9.59 1.41.59.51 0 1.02-.2 1.41-.59l7.78-7.78 2.81-2.81c.8-.78.8-2.07 0-2.86zM5.41 20L4 18.59l7.72-7.72 1.47 1.35L5.41 20z\"/>\n",
              "  </svg>\n",
              "      </button>\n",
              "      \n",
              "  <style>\n",
              "    .colab-df-container {\n",
              "      display:flex;\n",
              "      flex-wrap:wrap;\n",
              "      gap: 12px;\n",
              "    }\n",
              "\n",
              "    .colab-df-convert {\n",
              "      background-color: #E8F0FE;\n",
              "      border: none;\n",
              "      border-radius: 50%;\n",
              "      cursor: pointer;\n",
              "      display: none;\n",
              "      fill: #1967D2;\n",
              "      height: 32px;\n",
              "      padding: 0 0 0 0;\n",
              "      width: 32px;\n",
              "    }\n",
              "\n",
              "    .colab-df-convert:hover {\n",
              "      background-color: #E2EBFA;\n",
              "      box-shadow: 0px 1px 2px rgba(60, 64, 67, 0.3), 0px 1px 3px 1px rgba(60, 64, 67, 0.15);\n",
              "      fill: #174EA6;\n",
              "    }\n",
              "\n",
              "    [theme=dark] .colab-df-convert {\n",
              "      background-color: #3B4455;\n",
              "      fill: #D2E3FC;\n",
              "    }\n",
              "\n",
              "    [theme=dark] .colab-df-convert:hover {\n",
              "      background-color: #434B5C;\n",
              "      box-shadow: 0px 1px 3px 1px rgba(0, 0, 0, 0.15);\n",
              "      filter: drop-shadow(0px 1px 2px rgba(0, 0, 0, 0.3));\n",
              "      fill: #FFFFFF;\n",
              "    }\n",
              "  </style>\n",
              "\n",
              "      <script>\n",
              "        const buttonEl =\n",
              "          document.querySelector('#df-78e46c66-a670-495a-b4a8-a543cefdfde5 button.colab-df-convert');\n",
              "        buttonEl.style.display =\n",
              "          google.colab.kernel.accessAllowed ? 'block' : 'none';\n",
              "\n",
              "        async function convertToInteractive(key) {\n",
              "          const element = document.querySelector('#df-78e46c66-a670-495a-b4a8-a543cefdfde5');\n",
              "          const dataTable =\n",
              "            await google.colab.kernel.invokeFunction('convertToInteractive',\n",
              "                                                     [key], {});\n",
              "          if (!dataTable) return;\n",
              "\n",
              "          const docLinkHtml = 'Like what you see? Visit the ' +\n",
              "            '<a target=\"_blank\" href=https://colab.research.google.com/notebooks/data_table.ipynb>data table notebook</a>'\n",
              "            + ' to learn more about interactive tables.';\n",
              "          element.innerHTML = '';\n",
              "          dataTable['output_type'] = 'display_data';\n",
              "          await google.colab.output.renderOutput(dataTable, element);\n",
              "          const docLink = document.createElement('div');\n",
              "          docLink.innerHTML = docLinkHtml;\n",
              "          element.appendChild(docLink);\n",
              "        }\n",
              "      </script>\n",
              "    </div>\n",
              "  </div>\n",
              "  "
            ]
          },
          "metadata": {},
          "execution_count": 63
        }
      ]
    },
    {
      "cell_type": "markdown",
      "source": [
        "# Data Split"
      ],
      "metadata": {
        "id": "n8-WM6ButklD"
      }
    },
    {
      "cell_type": "code",
      "source": [
        "#Train-Test Split\n",
        "from sklearn.model_selection import train_test_split\n",
        "data_train,data_test=train_test_split(data,test_size=0.05,random_state=1)\n",
        "q1=len(data_train)\n",
        "q2=len(data_test)\n",
        "data_train=np.array(data_train)\n",
        "data_test=np.array(data_test)"
      ],
      "metadata": {
        "id": "FrzJmvN3fNsI"
      },
      "execution_count": 64,
      "outputs": []
    },
    {
      "cell_type": "markdown",
      "source": [
        "# Random weight initialization"
      ],
      "metadata": {
        "id": "nNs_PIVDtoIJ"
      }
    },
    {
      "cell_type": "code",
      "source": [
        "# Random weight initialization\n",
        "w_ij=np.random.uniform(-1,1,size=(3,5))\n",
        "w_jk=np.random.uniform(-1,1,size=(5,1))\n",
        "print(w_ij.shape,w_ij)\n",
        "print(w_jk.shape,w_jk)\n"
      ],
      "metadata": {
        "colab": {
          "base_uri": "https://localhost:8080/"
        },
        "id": "COPdGcrofSi8",
        "outputId": "aeb4555e-64ab-478b-8f1d-121b39a8f468"
      },
      "execution_count": 65,
      "outputs": [
        {
          "output_type": "stream",
          "name": "stdout",
          "text": [
            "(3, 5) [[-0.27577332  0.53999253  0.50265186  0.90369886  0.66750935]\n",
            " [-0.96722496  0.00233453  0.37918121 -0.78894453 -0.23294348]\n",
            " [ 0.63614768  0.79308551  0.59382628 -0.28449337 -0.45206324]]\n",
            "(5, 1) [[ 0.48910975]\n",
            " [-0.14569288]\n",
            " [ 0.88064351]\n",
            " [ 0.22210074]\n",
            " [-0.72495381]]\n"
          ]
        }
      ]
    },
    {
      "cell_type": "markdown",
      "source": [
        "#Forward pass"
      ],
      "metadata": {
        "id": "qsgos9RJtqXI"
      }
    },
    {
      "cell_type": "code",
      "source": [
        "#Forward pass\n",
        "def forward_pass(a,w_ij,w_jk,j):\n",
        "    o_j=np.dot(a[[j],0:3],w_ij)\n",
        "    o_k=np.dot(o_j,w_jk)\n",
        "    return o_j,o_k "
      ],
      "metadata": {
        "id": "2dQ2q7TtnLOs"
      },
      "execution_count": 66,
      "outputs": []
    },
    {
      "cell_type": "markdown",
      "source": [
        "#Backward pass"
      ],
      "metadata": {
        "id": "JgdLgkgHtrw2"
      }
    },
    {
      "cell_type": "code",
      "source": [
        "#Backward pass\n",
        "def weights_updation_bp(a,l,o_j,o_k,w_ij,w_jk,j):\n",
        "    dw_ij=np.zeros((3,5))\n",
        "    dw_jk=np.dot(l*(a[[j],3]-o_k),o_j)\n",
        "    w_jk=w_jk+dw_jk.T\n",
        "    for k in range(5):\n",
        "        dw_ij[:,k]=np.dot(l*(a[[j],3]-o_k)*w_jk[[k]],a[[j],0:3])\n",
        "    w_ij=w_ij+dw_ij\n",
        "    return w_jk,w_ij"
      ],
      "metadata": {
        "id": "zSCbgl_8nict"
      },
      "execution_count": 67,
      "outputs": []
    },
    {
      "cell_type": "markdown",
      "source": [
        "#Neural Nets Training With SGD"
      ],
      "metadata": {
        "id": "VipptTW1tuNm"
      }
    },
    {
      "cell_type": "code",
      "source": [
        "#Neural Nets\n",
        "l=0.001\n",
        "for i in range(100):\n",
        "    for j in range(q1):\n",
        "        o_j,o_k=forward_pass(data_train,w_ij,w_jk,j)\n",
        "        w_jk,w_ij=weights_updation_bp(data_train,l,o_j,o_k,w_ij,w_jk,j)\n",
        "print(w_jk)\n",
        "print(w_ij)"
      ],
      "metadata": {
        "colab": {
          "base_uri": "https://localhost:8080/"
        },
        "id": "Jg2AqEFjpxye",
        "outputId": "4dda8c16-4eb8-49af-e904-ea322c60de8f"
      },
      "execution_count": 68,
      "outputs": [
        {
          "output_type": "stream",
          "name": "stdout",
          "text": [
            "[[ 0.32768537]\n",
            " [ 0.11914646]\n",
            " [ 1.2812513 ]\n",
            " [ 0.16505156]\n",
            " [-0.78853858]]\n",
            "[[-1.89270366e-01  5.37764721e-01  7.31572791e-01  9.44251757e-01\n",
            "   5.07267523e-01]\n",
            " [-8.59009100e-01 -6.89985676e-04  6.64810262e-01 -7.38231376e-01\n",
            "  -4.33078886e-01]\n",
            " [ 7.14687870e-01  7.90234093e-01  7.99029400e-01 -2.47736434e-01\n",
            "  -5.96395699e-01]]\n"
          ]
        }
      ]
    },
    {
      "cell_type": "markdown",
      "source": [
        "# Output prediction with test data"
      ],
      "metadata": {
        "id": "D8bo_skBtydA"
      }
    },
    {
      "cell_type": "code",
      "source": [
        "pred_test=np.zeros((q2,1))\n",
        "for z in range(q2):\n",
        "    _,pred_test[z]=forward_pass(data_test,w_ij,w_jk,z)\n",
        "print(pred_test.shape)"
      ],
      "metadata": {
        "colab": {
          "base_uri": "https://localhost:8080/"
        },
        "id": "EQKcWukyqMmv",
        "outputId": "8308dd94-a7fe-45e5-fafb-974f949cb429"
      },
      "execution_count": 75,
      "outputs": [
        {
          "output_type": "stream",
          "name": "stdout",
          "text": [
            "(1, 1)\n"
          ]
        }
      ]
    },
    {
      "cell_type": "markdown",
      "source": [
        "# Output prediction with train data"
      ],
      "metadata": {
        "id": "cgaiKNUYt2-C"
      }
    },
    {
      "cell_type": "code",
      "source": [
        "pred_train=np.zeros((q1,1))\n",
        "for z in range(q1):\n",
        "    _,pred_train[z]=forward_pass(data_train,w_ij,w_jk,z)\n",
        "print(pred_train.shape)"
      ],
      "metadata": {
        "colab": {
          "base_uri": "https://localhost:8080/"
        },
        "id": "ajph2tN7qgnk",
        "outputId": "d1c605ea-f96e-4213-c097-5756c7d62a7b"
      },
      "execution_count": 76,
      "outputs": [
        {
          "output_type": "stream",
          "name": "stdout",
          "text": [
            "(11, 1)\n"
          ]
        }
      ]
    },
    {
      "cell_type": "markdown",
      "source": [
        "# Testing and Training Errors"
      ],
      "metadata": {
        "id": "aQ4HFsm1t4zZ"
      }
    },
    {
      "cell_type": "code",
      "source": [
        "from sklearn.metrics import mean_squared_error\n",
        "print(\"Testing MSE:\",mean_squared_error(data_test[:,3],pred_test))\n",
        "print(\"Training MSE:\",mean_squared_error(data_train[:,3],pred_train))"
      ],
      "metadata": {
        "colab": {
          "base_uri": "https://localhost:8080/"
        },
        "id": "obUgEXjXqWRv",
        "outputId": "5a9649ad-885d-4576-8038-965164fdb065"
      },
      "execution_count": 71,
      "outputs": [
        {
          "output_type": "stream",
          "name": "stdout",
          "text": [
            "Testing MSE: 0.010639938312227908\n",
            "Training MSE: 0.07360597996403402\n"
          ]
        }
      ]
    },
    {
      "cell_type": "markdown",
      "source": [
        "# Deployment"
      ],
      "metadata": {
        "id": "myz3CC2lt8EM"
      }
    },
    {
      "cell_type": "code",
      "source": [
        "inputvector=np.zeros((1,3))\n",
        "for j in range(3):\n",
        "  A=input(\"enter value\")\n",
        "  inputvector[0,j]=A\n",
        "_,p=forward_pass(inputvector,w_ij,w_jk,0)\n",
        "print(\"Predicted Output:\",p)"
      ],
      "metadata": {
        "colab": {
          "base_uri": "https://localhost:8080/"
        },
        "id": "HzFWfCFYr871",
        "outputId": "d544b441-67b5-4411-ecb2-ceb7ef381043"
      },
      "execution_count": 73,
      "outputs": [
        {
          "output_type": "stream",
          "name": "stdout",
          "text": [
            "enter value0.1\n",
            "enter value0.2\n",
            "enter value0.3\n",
            "Predicted Output: [[0.76194676]]\n"
          ]
        }
      ]
    },
    {
      "cell_type": "markdown",
      "source": [
        "#ANN With Hidden Layer and with linear activation functions and with bias"
      ],
      "metadata": {
        "id": "wLixcS01uX2d"
      }
    },
    {
      "cell_type": "markdown",
      "source": [
        "![image.png](data:image/png;base64,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)"
      ],
      "metadata": {
        "id": "D5-XxnHqzbY0"
      }
    },
    {
      "cell_type": "markdown",
      "source": [
        "#Data Import"
      ],
      "metadata": {
        "id": "PuMFGiLDzuIG"
      }
    },
    {
      "cell_type": "code",
      "source": [
        "data=pd.read_excel(\"/content/drive/MyDrive/NNDL-Data/SampleData_02.xlsx\")\n",
        "data.head()"
      ],
      "metadata": {
        "colab": {
          "base_uri": "https://localhost:8080/",
          "height": 206
        },
        "id": "4jvPX0F2zmj6",
        "outputId": "52ba2a35-7324-468d-8387-869a4e696d6d"
      },
      "execution_count": 99,
      "outputs": [
        {
          "output_type": "execute_result",
          "data": {
            "text/plain": [
              "     A    B    C         X\n",
              "0  0.1  0.2  0.3  3.567146\n",
              "1  0.2  0.3  0.1  3.558730\n",
              "2  0.2  0.5  0.4  4.475214\n",
              "3  0.3  0.4  0.5  4.760498\n",
              "4  0.5  0.5  0.4  5.193062"
            ],
            "text/html": [
              "\n",
              "  <div id=\"df-f3f9c8ab-9b3e-481e-9661-aba62a98b246\">\n",
              "    <div class=\"colab-df-container\">\n",
              "      <div>\n",
              "<style scoped>\n",
              "    .dataframe tbody tr th:only-of-type {\n",
              "        vertical-align: middle;\n",
              "    }\n",
              "\n",
              "    .dataframe tbody tr th {\n",
              "        vertical-align: top;\n",
              "    }\n",
              "\n",
              "    .dataframe thead th {\n",
              "        text-align: right;\n",
              "    }\n",
              "</style>\n",
              "<table border=\"1\" class=\"dataframe\">\n",
              "  <thead>\n",
              "    <tr style=\"text-align: right;\">\n",
              "      <th></th>\n",
              "      <th>A</th>\n",
              "      <th>B</th>\n",
              "      <th>C</th>\n",
              "      <th>X</th>\n",
              "    </tr>\n",
              "  </thead>\n",
              "  <tbody>\n",
              "    <tr>\n",
              "      <th>0</th>\n",
              "      <td>0.1</td>\n",
              "      <td>0.2</td>\n",
              "      <td>0.3</td>\n",
              "      <td>3.567146</td>\n",
              "    </tr>\n",
              "    <tr>\n",
              "      <th>1</th>\n",
              "      <td>0.2</td>\n",
              "      <td>0.3</td>\n",
              "      <td>0.1</td>\n",
              "      <td>3.558730</td>\n",
              "    </tr>\n",
              "    <tr>\n",
              "      <th>2</th>\n",
              "      <td>0.2</td>\n",
              "      <td>0.5</td>\n",
              "      <td>0.4</td>\n",
              "      <td>4.475214</td>\n",
              "    </tr>\n",
              "    <tr>\n",
              "      <th>3</th>\n",
              "      <td>0.3</td>\n",
              "      <td>0.4</td>\n",
              "      <td>0.5</td>\n",
              "      <td>4.760498</td>\n",
              "    </tr>\n",
              "    <tr>\n",
              "      <th>4</th>\n",
              "      <td>0.5</td>\n",
              "      <td>0.5</td>\n",
              "      <td>0.4</td>\n",
              "      <td>5.193062</td>\n",
              "    </tr>\n",
              "  </tbody>\n",
              "</table>\n",
              "</div>\n",
              "      <button class=\"colab-df-convert\" onclick=\"convertToInteractive('df-f3f9c8ab-9b3e-481e-9661-aba62a98b246')\"\n",
              "              title=\"Convert this dataframe to an interactive table.\"\n",
              "              style=\"display:none;\">\n",
              "        \n",
              "  <svg xmlns=\"http://www.w3.org/2000/svg\" height=\"24px\"viewBox=\"0 0 24 24\"\n",
              "       width=\"24px\">\n",
              "    <path d=\"M0 0h24v24H0V0z\" fill=\"none\"/>\n",
              "    <path d=\"M18.56 5.44l.94 2.06.94-2.06 2.06-.94-2.06-.94-.94-2.06-.94 2.06-2.06.94zm-11 1L8.5 8.5l.94-2.06 2.06-.94-2.06-.94L8.5 2.5l-.94 2.06-2.06.94zm10 10l.94 2.06.94-2.06 2.06-.94-2.06-.94-.94-2.06-.94 2.06-2.06.94z\"/><path d=\"M17.41 7.96l-1.37-1.37c-.4-.4-.92-.59-1.43-.59-.52 0-1.04.2-1.43.59L10.3 9.45l-7.72 7.72c-.78.78-.78 2.05 0 2.83L4 21.41c.39.39.9.59 1.41.59.51 0 1.02-.2 1.41-.59l7.78-7.78 2.81-2.81c.8-.78.8-2.07 0-2.86zM5.41 20L4 18.59l7.72-7.72 1.47 1.35L5.41 20z\"/>\n",
              "  </svg>\n",
              "      </button>\n",
              "      \n",
              "  <style>\n",
              "    .colab-df-container {\n",
              "      display:flex;\n",
              "      flex-wrap:wrap;\n",
              "      gap: 12px;\n",
              "    }\n",
              "\n",
              "    .colab-df-convert {\n",
              "      background-color: #E8F0FE;\n",
              "      border: none;\n",
              "      border-radius: 50%;\n",
              "      cursor: pointer;\n",
              "      display: none;\n",
              "      fill: #1967D2;\n",
              "      height: 32px;\n",
              "      padding: 0 0 0 0;\n",
              "      width: 32px;\n",
              "    }\n",
              "\n",
              "    .colab-df-convert:hover {\n",
              "      background-color: #E2EBFA;\n",
              "      box-shadow: 0px 1px 2px rgba(60, 64, 67, 0.3), 0px 1px 3px 1px rgba(60, 64, 67, 0.15);\n",
              "      fill: #174EA6;\n",
              "    }\n",
              "\n",
              "    [theme=dark] .colab-df-convert {\n",
              "      background-color: #3B4455;\n",
              "      fill: #D2E3FC;\n",
              "    }\n",
              "\n",
              "    [theme=dark] .colab-df-convert:hover {\n",
              "      background-color: #434B5C;\n",
              "      box-shadow: 0px 1px 3px 1px rgba(0, 0, 0, 0.15);\n",
              "      filter: drop-shadow(0px 1px 2px rgba(0, 0, 0, 0.3));\n",
              "      fill: #FFFFFF;\n",
              "    }\n",
              "  </style>\n",
              "\n",
              "      <script>\n",
              "        const buttonEl =\n",
              "          document.querySelector('#df-f3f9c8ab-9b3e-481e-9661-aba62a98b246 button.colab-df-convert');\n",
              "        buttonEl.style.display =\n",
              "          google.colab.kernel.accessAllowed ? 'block' : 'none';\n",
              "\n",
              "        async function convertToInteractive(key) {\n",
              "          const element = document.querySelector('#df-f3f9c8ab-9b3e-481e-9661-aba62a98b246');\n",
              "          const dataTable =\n",
              "            await google.colab.kernel.invokeFunction('convertToInteractive',\n",
              "                                                     [key], {});\n",
              "          if (!dataTable) return;\n",
              "\n",
              "          const docLinkHtml = 'Like what you see? Visit the ' +\n",
              "            '<a target=\"_blank\" href=https://colab.research.google.com/notebooks/data_table.ipynb>data table notebook</a>'\n",
              "            + ' to learn more about interactive tables.';\n",
              "          element.innerHTML = '';\n",
              "          dataTable['output_type'] = 'display_data';\n",
              "          await google.colab.output.renderOutput(dataTable, element);\n",
              "          const docLink = document.createElement('div');\n",
              "          docLink.innerHTML = docLinkHtml;\n",
              "          element.appendChild(docLink);\n",
              "        }\n",
              "      </script>\n",
              "    </div>\n",
              "  </div>\n",
              "  "
            ]
          },
          "metadata": {},
          "execution_count": 99
        }
      ]
    },
    {
      "cell_type": "markdown",
      "source": [
        "#Data Split"
      ],
      "metadata": {
        "id": "nAkcJLNKzwpl"
      }
    },
    {
      "cell_type": "code",
      "source": [
        "#Train-Test Split\n",
        "from sklearn.model_selection import train_test_split\n",
        "data_train,data_test=train_test_split(data,test_size=0.05,random_state=1)\n",
        "q1=len(data_train)\n",
        "q2=len(data_test)\n",
        "data_train=np.array(data_train)\n",
        "data_test=np.array(data_test)"
      ],
      "metadata": {
        "id": "2aTDLTwZzsY7"
      },
      "execution_count": 100,
      "outputs": []
    },
    {
      "cell_type": "markdown",
      "source": [
        "# Random weight initialization"
      ],
      "metadata": {
        "id": "Y2vPKI3Lzz8T"
      }
    },
    {
      "cell_type": "code",
      "source": [
        "# Random weight initialization\n",
        "w_ij=np.random.uniform(-1,1,size=(3,5))\n",
        "w_jk=np.random.uniform(-1,1,size=(5,1))\n",
        "b_j=np.random.uniform(-1,1,size=(5,1))\n",
        "b_k=np.random.uniform(-1,1,size=(1,1))\n",
        "print(w_ij.shape,w_ij)\n",
        "print(w_jk.shape,w_jk)\n",
        "print(b_j)\n",
        "print(b_k)"
      ],
      "metadata": {
        "colab": {
          "base_uri": "https://localhost:8080/"
        },
        "id": "i4exikeIuOm6",
        "outputId": "629d5cb7-ed62-4b26-975e-5ae2fe5ef33e"
      },
      "execution_count": 78,
      "outputs": [
        {
          "output_type": "stream",
          "name": "stdout",
          "text": [
            "(3, 5) [[ 0.57469404 -0.35339448  0.48108828  0.2383597   0.8393884 ]\n",
            " [-0.26792804 -0.25929246 -0.10172232  0.01624492  0.03747365]\n",
            " [-0.36734369  0.77115243 -0.29927107  0.25341652 -0.32701799]]\n",
            "(5, 1) [[-0.77069342]\n",
            " [-0.32600501]\n",
            " [-0.00863143]\n",
            " [-0.88824425]\n",
            " [-0.36196696]]\n",
            "[[ 0.76816083]\n",
            " [-0.44741156]\n",
            " [-0.27318723]\n",
            " [-0.99641481]\n",
            " [ 0.31504705]]\n",
            "[[-0.83403476]]\n"
          ]
        }
      ]
    },
    {
      "cell_type": "markdown",
      "source": [
        "#Forward pass"
      ],
      "metadata": {
        "id": "fqggW2stz1yl"
      }
    },
    {
      "cell_type": "code",
      "source": [
        "#Forward pass\n",
        "def forward_pass(a,w_ij,w_jk,b_j,b_k,j):\n",
        "    o_j=np.dot(a[[j],0:3],w_ij)+b_j.T\n",
        "    o_k=np.dot(o_j,w_jk)+b_k\n",
        "    return o_j,o_k "
      ],
      "metadata": {
        "id": "cXiv34dvu82k"
      },
      "execution_count": 91,
      "outputs": []
    },
    {
      "cell_type": "markdown",
      "source": [
        "#Backward pass"
      ],
      "metadata": {
        "id": "S6RD0tMIz3Uz"
      }
    },
    {
      "cell_type": "code",
      "source": [
        "#Backward pass\n",
        "def weights_updation_bp(a,l,o_j,o_k,w_ij,w_jk,b_j,b_k,j):\n",
        "    dw_ij=np.zeros((3,5))\n",
        "    db_j=np.zeros((1,5))\n",
        "    dw_jk=np.dot(l*(a[[j],3]-o_k),o_j)\n",
        "    w_jk=w_jk+dw_jk.T\n",
        "    db_k=l*(a[[j],3]-o_k)\n",
        "    for k in range(5):\n",
        "        dw_ij[:,k]=np.dot(l*(a[[j],3]-o_k)*w_jk[[k]],a[[j],0:3])\n",
        "        db_j[:,k]=l*(a[[j],3]-o_k)*w_jk[[k]]\n",
        "    w_ij=w_ij+dw_ij\n",
        "    b_j=b_j+db_j.T\n",
        "    return w_jk,w_ij,b_j,b_k"
      ],
      "metadata": {
        "id": "N1B7beLRvinO"
      },
      "execution_count": 92,
      "outputs": []
    },
    {
      "cell_type": "markdown",
      "source": [
        "#Neural Nets Training With SGD"
      ],
      "metadata": {
        "id": "dhxYJgiFz7vP"
      }
    },
    {
      "cell_type": "code",
      "source": [
        "#Neural Nets\n",
        "l=0.001\n",
        "for i in range(100):\n",
        "    for j in range(q1):\n",
        "        o_j,o_k=forward_pass(data_train,w_ij,w_jk,b_j,b_k,j)\n",
        "        w_jk,w_ij,b_j,b_k=weights_updation_bp(data_train,l,o_j,o_k,w_ij,w_jk,b_j,b_k,j)\n",
        "print(w_jk)\n",
        "print(w_ij)\n",
        "print(b_j)\n",
        "print(b_k)"
      ],
      "metadata": {
        "colab": {
          "base_uri": "https://localhost:8080/"
        },
        "id": "QHnBhlLBwudF",
        "outputId": "6125e038-4041-4469-ee91-c83bec5fc3ef"
      },
      "execution_count": 93,
      "outputs": [
        {
          "output_type": "stream",
          "name": "stdout",
          "text": [
            "[[-0.56505374]\n",
            " [-0.54323983]\n",
            " [-0.10959838]\n",
            " [-1.33287836]\n",
            " [-0.17359767]]\n",
            "[[ 0.46434931 -0.4316567   0.46848462  0.03905307  0.79525367]\n",
            " [-0.39682092 -0.34821575 -0.11559245 -0.2109643  -0.01481367]\n",
            " [-0.47187592  0.6985459  -0.31069008  0.06804356 -0.36927689]]\n",
            "[[ 0.50718668]\n",
            " [-0.61694447]\n",
            " [-0.29766937]\n",
            " [-1.43283659]\n",
            " [ 0.20610671]]\n",
            "[[-0.83403476]]\n"
          ]
        }
      ]
    },
    {
      "cell_type": "markdown",
      "source": [
        "#Output prediction with test data"
      ],
      "metadata": {
        "id": "-yExjkus0Aoe"
      }
    },
    {
      "cell_type": "code",
      "source": [
        "pred_test=np.zeros((q2,1))\n",
        "for z in range(q2):\n",
        "    _,pred_test[z]=forward_pass(data_test,w_ij,w_jk,b_j,b_k,z)\n",
        "print(pred_test.shape)"
      ],
      "metadata": {
        "colab": {
          "base_uri": "https://localhost:8080/"
        },
        "id": "kN4qJfLIyPFV",
        "outputId": "42d8e4c0-3ca2-4751-e717-76f6b345acbf"
      },
      "execution_count": 95,
      "outputs": [
        {
          "output_type": "stream",
          "name": "stdout",
          "text": [
            "(1, 1)\n"
          ]
        }
      ]
    },
    {
      "cell_type": "markdown",
      "source": [
        "#Output prediction with train data"
      ],
      "metadata": {
        "id": "zdUSxg510DgS"
      }
    },
    {
      "cell_type": "code",
      "source": [
        "pred_train=np.zeros((q1,1))\n",
        "for z in range(q1):\n",
        "    _,pred_train[z]=forward_pass(data_train,w_ij,w_jk,b_j,b_k,z)\n",
        "print(pred_train.shape)"
      ],
      "metadata": {
        "colab": {
          "base_uri": "https://localhost:8080/"
        },
        "id": "k1ZiCuSmyZAS",
        "outputId": "2ffe573c-c323-4b58-b79d-7b776e41c1da"
      },
      "execution_count": 96,
      "outputs": [
        {
          "output_type": "stream",
          "name": "stdout",
          "text": [
            "(11, 1)\n"
          ]
        }
      ]
    },
    {
      "cell_type": "markdown",
      "source": [
        "# Error Calculations"
      ],
      "metadata": {
        "id": "v1yIIznc0HkJ"
      }
    },
    {
      "cell_type": "code",
      "source": [
        "from sklearn.metrics import mean_squared_error\n",
        "print(\"Testing MSE:\",mean_squared_error(data_test[:,3],pred_test))\n",
        "print(\"Training MSE:\",mean_squared_error(data_train[:,3],pred_train))"
      ],
      "metadata": {
        "colab": {
          "base_uri": "https://localhost:8080/"
        },
        "id": "a-TiDMQhzJ6T",
        "outputId": "d8edf5c0-23f7-47f3-f71f-b717781755bb"
      },
      "execution_count": 97,
      "outputs": [
        {
          "output_type": "stream",
          "name": "stdout",
          "text": [
            "Testing MSE: 0.0009196295547200012\n",
            "Training MSE: 0.1519056609445115\n"
          ]
        }
      ]
    },
    {
      "cell_type": "markdown",
      "source": [
        "#Deployment"
      ],
      "metadata": {
        "id": "VDFjXAQ70KKO"
      }
    },
    {
      "cell_type": "code",
      "source": [
        "inputvector=np.zeros((1,3))\n",
        "for j in range(3):\n",
        "  A=input(\"enter value\")\n",
        "  inputvector[0,j]=A\n",
        "_,p=forward_pass(inputvector,w_ij,w_jk,b_j,b_k,0)\n",
        "print(\"Predicted Output:\",p)"
      ],
      "metadata": {
        "colab": {
          "base_uri": "https://localhost:8080/"
        },
        "id": "Pcr1jnmazN0n",
        "outputId": "ed8c0abb-c88c-4eee-f788-13a2dce1b2b0"
      },
      "execution_count": 98,
      "outputs": [
        {
          "output_type": "stream",
          "name": "stdout",
          "text": [
            "enter value0.1\n",
            "enter value0.2\n",
            "enter value0.3\n",
            "Predicted Output: [[1.20458355]]\n"
          ]
        }
      ]
    },
    {
      "cell_type": "markdown",
      "source": [
        "#ANN With Hidden Layer and with Non-linear activation functions and with bias"
      ],
      "metadata": {
        "id": "WKnsdjhR5kDd"
      }
    },
    {
      "cell_type": "markdown",
      "metadata": {
        "id": "cuIcz4sRlpP0"
      },
      "source": [
        "# ***Data Processing***\n",
        "\n",
        "---\n",
        "\n"
      ]
    },
    {
      "cell_type": "code",
      "metadata": {
        "trusted": true,
        "colab": {
          "base_uri": "https://localhost:8080/"
        },
        "id": "vds9Bycf5Cuw",
        "outputId": "0718078d-bb4a-449b-8b87-aea6342fe86a"
      },
      "source": [
        "data=pd.read_csv(\"/content/drive/MyDrive/PROJECT_Final.csv\")\n",
        "data.head()\n",
        "min_load=data.min()\n",
        "print(min_load)\n",
        "max_load=data.max()\n",
        "print(max_load)\n"
      ],
      "execution_count": null,
      "outputs": [
        {
          "output_type": "stream",
          "text": [
            "Load    3377.9196\n",
            "dtype: float64\n",
            "Load    8841.66948\n",
            "dtype: float64\n"
          ],
          "name": "stdout"
        }
      ]
    },
    {
      "cell_type": "code",
      "metadata": {
        "colab": {
          "base_uri": "https://localhost:8080/",
          "height": 204
        },
        "id": "DgIGspOuo_uN",
        "outputId": "e57ed251-053e-4376-b64d-fa878728add8"
      },
      "source": [
        "data.head()"
      ],
      "execution_count": null,
      "outputs": [
        {
          "output_type": "execute_result",
          "data": {
            "text/html": [
              "<div>\n",
              "<style scoped>\n",
              "    .dataframe tbody tr th:only-of-type {\n",
              "        vertical-align: middle;\n",
              "    }\n",
              "\n",
              "    .dataframe tbody tr th {\n",
              "        vertical-align: top;\n",
              "    }\n",
              "\n",
              "    .dataframe thead th {\n",
              "        text-align: right;\n",
              "    }\n",
              "</style>\n",
              "<table border=\"1\" class=\"dataframe\">\n",
              "  <thead>\n",
              "    <tr style=\"text-align: right;\">\n",
              "      <th></th>\n",
              "      <th>Load</th>\n",
              "    </tr>\n",
              "  </thead>\n",
              "  <tbody>\n",
              "    <tr>\n",
              "      <th>0</th>\n",
              "      <td>5551.82208</td>\n",
              "    </tr>\n",
              "    <tr>\n",
              "      <th>1</th>\n",
              "      <td>4983.17184</td>\n",
              "    </tr>\n",
              "    <tr>\n",
              "      <th>2</th>\n",
              "      <td>4888.39680</td>\n",
              "    </tr>\n",
              "    <tr>\n",
              "      <th>3</th>\n",
              "      <td>5072.95872</td>\n",
              "    </tr>\n",
              "    <tr>\n",
              "      <th>4</th>\n",
              "      <td>5196.25980</td>\n",
              "    </tr>\n",
              "  </tbody>\n",
              "</table>\n",
              "</div>"
            ],
            "text/plain": [
              "         Load\n",
              "0  5551.82208\n",
              "1  4983.17184\n",
              "2  4888.39680\n",
              "3  5072.95872\n",
              "4  5196.25980"
            ]
          },
          "metadata": {
            "tags": []
          },
          "execution_count": 17
        }
      ]
    },
    {
      "cell_type": "code",
      "metadata": {
        "trusted": true,
        "colab": {
          "base_uri": "https://localhost:8080/"
        },
        "id": "N2LvgYJo5Cu_",
        "outputId": "3f84fa7a-4c16-49a9-cdcf-1270c9f25ffb"
      },
      "source": [
        "from sklearn.preprocessing import MinMaxScaler\n",
        "ms=MinMaxScaler()\n",
        "data=ms.fit_transform(data)\n",
        "print(data)\n",
        "print(data.shape)"
      ],
      "execution_count": null,
      "outputs": [
        {
          "output_type": "stream",
          "text": [
            "[[0.39787738]\n",
            " [0.29380046]\n",
            " [0.27645431]\n",
            " ...\n",
            " [0.24629825]\n",
            " [0.32438447]\n",
            " [0.65165045]]\n",
            "(2184, 1)\n"
          ],
          "name": "stdout"
        }
      ]
    },
    {
      "cell_type": "code",
      "metadata": {
        "trusted": true,
        "colab": {
          "base_uri": "https://localhost:8080/"
        },
        "id": "Y1awM3FM5CvD",
        "outputId": "3e8e930d-0798-4bb9-f15b-6acc4d0c3a1c"
      },
      "source": [
        "a=np.zeros((len(data)-72,7))\n",
        "print(a.shape)"
      ],
      "execution_count": null,
      "outputs": [
        {
          "output_type": "stream",
          "text": [
            "(2112, 7)\n"
          ],
          "name": "stdout"
        }
      ]
    },
    {
      "cell_type": "code",
      "metadata": {
        "trusted": true,
        "colab": {
          "base_uri": "https://localhost:8080/"
        },
        "id": "2-OvbVmK5CvE",
        "outputId": "c86e5d1d-8b8e-47dd-a60f-6017d5e4b696"
      },
      "source": [
        "k=72\n",
        "for i in range(2112):\n",
        "    a[i,0],a[i,1],a[i,2],a[i,3],a[i,4],a[i,5],a[i,6]=data[k-1],data[k-2],data[k-3],data[k-24],data[k-48],data[k-72],data[k]\n",
        "    k=k+1\n",
        "print(a)"
      ],
      "execution_count": null,
      "outputs": [
        {
          "output_type": "stream",
          "text": [
            "[[0.44580754 0.55202419 0.4649796  ... 0.28430002 0.39787738 0.41017375]\n",
            " [0.41017375 0.44580754 0.55202419 ... 0.25579869 0.29380046 0.36723631]\n",
            " [0.36723631 0.41017375 0.44580754 ... 0.24450087 0.27645431 0.30646772]\n",
            " ...\n",
            " [0.21779692 0.22852415 0.3052124  ... 0.63393341 0.66531625 0.24629825]\n",
            " [0.24629825 0.21779692 0.22852415 ... 0.48380931 0.47074263 0.32438447]\n",
            " [0.32438447 0.24629825 0.21779692 ... 0.39228553 0.4173918  0.65165045]]\n"
          ],
          "name": "stdout"
        }
      ]
    },
    {
      "cell_type": "code",
      "metadata": {
        "trusted": true,
        "colab": {
          "base_uri": "https://localhost:8080/"
        },
        "id": "8r1QO5G55CvG",
        "outputId": "8d61624a-123d-40a5-ba86-8f63b6f3c98e"
      },
      "source": [
        "#Train-Test Split\n",
        "from sklearn.model_selection import train_test_split\n",
        "a,a_test=train_test_split(a,test_size=0.05,random_state=1)\n",
        "print(a.shape)\n",
        "print(a_test.shape)\n",
        "q1=len(a)\n",
        "print(q1)\n",
        "q2=len(a_test)\n",
        "print(q2)"
      ],
      "execution_count": null,
      "outputs": [
        {
          "output_type": "stream",
          "text": [
            "(1905, 7)\n",
            "(101, 7)\n",
            "1905\n",
            "101\n"
          ],
          "name": "stdout"
        }
      ]
    },
    {
      "cell_type": "markdown",
      "metadata": {
        "id": "73gmNeCkljsE"
      },
      "source": [
        "# ***Delta Learning***\n",
        "\n",
        "---\n",
        "\n"
      ]
    },
    {
      "cell_type": "code",
      "metadata": {
        "trusted": true,
        "colab": {
          "base_uri": "https://localhost:8080/"
        },
        "id": "Lnh3m5Y15CvH",
        "outputId": "1c55589c-12eb-49ad-b9d5-e8cb8d47a17d"
      },
      "source": [
        "#Random Weight Initialization\n",
        "weights=np.random.uniform(-1,1,size=(6,1))\n",
        "print(weights.shape)\n",
        "print(weights)"
      ],
      "execution_count": null,
      "outputs": [
        {
          "output_type": "stream",
          "text": [
            "(6, 1)\n",
            "[[-0.29832084]\n",
            " [ 0.36027509]\n",
            " [-0.29548685]\n",
            " [ 0.06927126]\n",
            " [-0.89495933]\n",
            " [ 0.67729431]]\n"
          ],
          "name": "stdout"
        }
      ]
    },
    {
      "cell_type": "code",
      "metadata": {
        "trusted": true,
        "colab": {
          "base_uri": "https://localhost:8080/"
        },
        "id": "Z1y8OHoD5CvH",
        "outputId": "46a4c343-6617-4138-c752-b4b5b18c1466"
      },
      "source": [
        "#Delta Learning\n",
        "\n",
        "l=0.001\n",
        "for i in range(100):\n",
        "    for j in range(q1):\n",
        "        n=np.dot(a[j,0:6],weights) #n.shape-1,1\n",
        "        o=1/(1+np.exp(-n))\n",
        "        dw=(l*(a[[j],6]-o))*o*(1-o)*a[[j],0:6].T\n",
        "        #dw3=dw3.reshape((6,1))\n",
        "        weights=weights+dw\n",
        "print(dw)\n",
        "print(weights)"
      ],
      "execution_count": null,
      "outputs": [
        {
          "output_type": "stream",
          "text": [
            "[[-2.27875913e-05]\n",
            " [-2.17215535e-05]\n",
            " [-2.32834229e-05]\n",
            " [-2.13620757e-05]\n",
            " [-2.97540245e-05]\n",
            " [-2.54898733e-05]]\n",
            "[[ 0.13647038]\n",
            " [ 0.3673168 ]\n",
            " [-0.67840376]\n",
            " [ 0.36185198]\n",
            " [-0.62537751]\n",
            " [ 0.66645002]]\n"
          ],
          "name": "stdout"
        }
      ]
    },
    {
      "cell_type": "code",
      "metadata": {
        "trusted": true,
        "id": "fNqD6o_Y5CvI",
        "colab": {
          "base_uri": "https://localhost:8080/"
        },
        "outputId": "458761af-e7a6-4fbf-83de-1fb344c931ba"
      },
      "source": [
        "#Delta Learning Testing\n",
        "o2=np.zeros((q2,1))\n",
        "for j in range(q2):\n",
        "    n2=np.dot(a_test[j,0:6],weights) #n.shape-1,1\n",
        "    o2[j]=1/(1+np.exp(-n2))\n",
        "\n",
        "from sklearn.metrics import mean_squared_error\n",
        "print(mean_squared_error(a_test[:,6],o2))"
      ],
      "execution_count": null,
      "outputs": [
        {
          "output_type": "stream",
          "text": [
            "0.03531187180751741\n"
          ],
          "name": "stdout"
        }
      ]
    },
    {
      "cell_type": "code",
      "metadata": {
        "trusted": true,
        "id": "Ob7jzIZV5CvI",
        "colab": {
          "base_uri": "https://localhost:8080/"
        },
        "outputId": "3644c33c-67c4-438e-d883-33d0e8ae8e25"
      },
      "source": [
        "# Prediction\n",
        "c=10\n",
        "n=np.dot(a[c,0:6],weights) #n.shape-1,1\n",
        "o=1/(1+np.exp(-n))\n",
        "Actual_load=a[c,6]*(max_load-min_load)+min_load\n",
        "Estimated_Load=o*(max_load-min_load)+min_load\n",
        "print('Actual Load=', Actual_load)\n",
        "print('Estimated Load=', Estimated_Load)"
      ],
      "execution_count": null,
      "outputs": [
        {
          "output_type": "stream",
          "text": [
            "Actual Load= Load    5260.01472\n",
            "dtype: float64\n",
            "Estimated Load= Load    6315.511975\n",
            "dtype: float64\n"
          ],
          "name": "stdout"
        }
      ]
    },
    {
      "cell_type": "markdown",
      "metadata": {
        "id": "Vyn-ttwKlbZ4"
      },
      "source": [
        "# ***Percepton Learning***\n",
        "\n",
        "---\n",
        "\n"
      ]
    },
    {
      "cell_type": "code",
      "metadata": {
        "trusted": true,
        "id": "1yiOQWTl5CvI",
        "colab": {
          "base_uri": "https://localhost:8080/"
        },
        "outputId": "958ce035-0bff-4f5d-dec2-e110e35acd88"
      },
      "source": [
        "#Random Weight Initialization\n",
        "weights=np.random.uniform(-1,1,size=(6,1))\n",
        "print(weights.shape)"
      ],
      "execution_count": null,
      "outputs": [
        {
          "output_type": "stream",
          "text": [
            "(6, 1)\n"
          ],
          "name": "stdout"
        }
      ]
    },
    {
      "cell_type": "code",
      "metadata": {
        "trusted": true,
        "id": "Mate809M5CvJ",
        "colab": {
          "base_uri": "https://localhost:8080/"
        },
        "outputId": "e228467a-c3c7-4431-c41d-42c209682607"
      },
      "source": [
        "#Percepton Learning\n",
        "\n",
        "l=0.001\n",
        "for i in range(10):\n",
        "    for j in range(q1):\n",
        "        n=np.dot(a[j,0:6],weights) #n.shape-1,1\n",
        "        if(n>0):\n",
        "            o=1\n",
        "        else:\n",
        "            o=0\n",
        "        dw=(l*(a[j,6]-o))*a[j,0:6].T\n",
        "        dw=dw.reshape((6,1))\n",
        "        weights=weights+dw\n",
        "print(dw)\n",
        "print(weights)"
      ],
      "execution_count": null,
      "outputs": [
        {
          "output_type": "stream",
          "text": [
            "[[6.77113098e-05]\n",
            " [6.45436728e-05]\n",
            " [6.91846293e-05]\n",
            " [6.34755162e-05]\n",
            " [8.84114491e-05]\n",
            " [7.57409012e-05]]\n",
            "[[ 0.50303686]\n",
            " [-0.14353898]\n",
            " [-0.16888725]\n",
            " [ 0.19314818]\n",
            " [-0.29764288]\n",
            " [-0.07387492]]\n"
          ],
          "name": "stdout"
        }
      ]
    },
    {
      "cell_type": "markdown",
      "metadata": {
        "id": "cpGRMCP6lTsQ"
      },
      "source": [
        "# ***Widrow-Hoff Learning***\n",
        "\n",
        "---\n",
        "\n"
      ]
    },
    {
      "cell_type": "code",
      "metadata": {
        "colab": {
          "base_uri": "https://localhost:8080/"
        },
        "id": "3hUW8S76mNp4",
        "outputId": "227d7b5a-3447-4727-c8e7-41ede09647f4"
      },
      "source": [
        "#Random Weight Initialization\n",
        "weights=np.random.uniform(-1,1,size=(6,1))\n",
        "print(weights.shape)\n",
        "weights"
      ],
      "execution_count": null,
      "outputs": [
        {
          "output_type": "stream",
          "text": [
            "(6, 1)\n"
          ],
          "name": "stdout"
        },
        {
          "output_type": "execute_result",
          "data": {
            "text/plain": [
              "array([[-0.39159472],\n",
              "       [-0.53759037],\n",
              "       [ 0.93248705],\n",
              "       [-0.78428862],\n",
              "       [ 0.0069686 ],\n",
              "       [-0.85695806]])"
            ]
          },
          "metadata": {
            "tags": []
          },
          "execution_count": 25
        }
      ]
    },
    {
      "cell_type": "code",
      "metadata": {
        "trusted": true,
        "id": "pf9VVqiz5CvJ",
        "colab": {
          "base_uri": "https://localhost:8080/"
        },
        "outputId": "b8c3c2f9-0526-48f8-c42d-f8e5319a6f3b"
      },
      "source": [
        "#Widrow-Hoff\n",
        "\n",
        "l=0.001\n",
        "\n",
        "for i in range(100):\n",
        "    for j in range(q1):\n",
        "        o=np.dot(a[j,0:6],weights) #n.shape-1,1\n",
        "        dw=(l*(a[j,6]-o))*a[j,0:6].T\n",
        "        dw=dw.reshape((6,1))\n",
        "        weights=weights+dw\n",
        "print(dw)\n",
        "print(weights)"
      ],
      "execution_count": null,
      "outputs": [
        {
          "output_type": "stream",
          "text": [
            "[[2.03853730e-05]\n",
            " [1.85947561e-05]\n",
            " [1.81064061e-05]\n",
            " [2.34523265e-05]\n",
            " [2.84798829e-05]\n",
            " [2.26715426e-05]]\n",
            "[[ 0.5788431 ]\n",
            " [-0.13135506]\n",
            " [ 0.01930878]\n",
            " [ 0.24381316]\n",
            " [ 0.25767233]\n",
            " [ 0.02594959]]\n"
          ],
          "name": "stdout"
        }
      ]
    },
    {
      "cell_type": "code",
      "metadata": {
        "trusted": true,
        "id": "k_5FM2Y45CvJ",
        "colab": {
          "base_uri": "https://localhost:8080/"
        },
        "outputId": "1f617572-e4ab-4a1d-9bf2-a5e6cc707a2b"
      },
      "source": [
        "#Widro-off Testing\n",
        "n3=np.zeros((q2,1))\n",
        "j=0\n",
        "for j in range(q2):\n",
        "    n3[j]=np.dot(a_test[j,0:6],weights)\n",
        "from sklearn.metrics import mean_squared_error\n",
        "print(mean_squared_error(a_test[:,6],n3))"
      ],
      "execution_count": null,
      "outputs": [
        {
          "output_type": "stream",
          "text": [
            "0.007314848062021888\n"
          ],
          "name": "stdout"
        }
      ]
    },
    {
      "cell_type": "code",
      "metadata": {
        "trusted": true,
        "id": "w5IfK29h5CvK",
        "colab": {
          "base_uri": "https://localhost:8080/"
        },
        "outputId": "a7263378-1284-4c55-a433-2ad9953edafe"
      },
      "source": [
        "# Prediction\n",
        "c=100\n",
        "n=np.dot(a[c,0:6],weights) #n.shape-1,1\n",
        "o=1/(1+np.exp(-n))\n",
        "print(o*(max_load-min_load)+min_load)\n",
        "print(a[c,6]*(max_load-min_load)+min_load)"
      ],
      "execution_count": null,
      "outputs": [
        {
          "output_type": "stream",
          "text": [
            "Load    6757.61198\n",
            "dtype: float64\n",
            "Load    5551.82208\n",
            "dtype: float64\n"
          ],
          "name": "stdout"
        }
      ]
    },
    {
      "cell_type": "markdown",
      "metadata": {
        "id": "tuTN9j375CvK"
      },
      "source": [
        "# ***Back Propagation Algorithm - Stochastic Gradient Descent Optimizer***\n",
        "\n",
        "---\n",
        "\n"
      ]
    },
    {
      "cell_type": "code",
      "metadata": {
        "trusted": true,
        "id": "Phr57mhV5CvK",
        "colab": {
          "base_uri": "https://localhost:8080/"
        },
        "outputId": "180ad0d2-9f09-417b-858e-5466b9c4a483"
      },
      "source": [
        "# Random weight initialization\n",
        "w_ij=np.random.uniform(-1,1,size=(6,9))\n",
        "w_jk=np.random.uniform(-1,1,size=(9,1))\n",
        "print(w_ij.shape,w_ij)\n",
        "print(w_jk.shape,w_jk)"
      ],
      "execution_count": null,
      "outputs": [
        {
          "output_type": "stream",
          "text": [
            "(6, 9) [[-0.53444658  0.7001869   0.39559511 -0.86787894 -0.41496841  0.31587241\n",
            "  -0.1584089   0.15224916 -0.60655269]\n",
            " [-0.3972663  -0.62766084 -0.1027823   0.50184113 -0.16783769  0.73233816\n",
            "  -0.87704902  0.24306043  0.37464562]\n",
            " [ 0.37902207  0.51502963 -0.58710852 -0.73912016  0.48572211 -0.15295383\n",
            "  -0.62727593 -0.80706963 -0.91356434]\n",
            " [-0.1518878   0.9564104   0.58818479  0.55074359  0.98201553 -0.50828608\n",
            "   0.93440124 -0.37047974  0.89181655]\n",
            " [-0.744913   -0.09967713 -0.48989651 -0.16186218  0.06344342  0.89987977\n",
            "   0.11888784  0.59767627 -0.10745737]\n",
            " [-0.23382512 -0.52777018  0.34292008 -0.74034343 -0.31611801  0.9337254\n",
            "   0.38984815 -0.61348553 -0.33289705]]\n",
            "(9, 1) [[-0.67008657]\n",
            " [ 0.82740104]\n",
            " [ 0.05782183]\n",
            " [-0.35281535]\n",
            " [ 0.90728878]\n",
            " [ 0.74531268]\n",
            " [-0.5977362 ]\n",
            " [-0.88103912]\n",
            " [-0.8291426 ]]\n"
          ],
          "name": "stdout"
        }
      ]
    },
    {
      "cell_type": "code",
      "metadata": {
        "trusted": true,
        "id": "jdf5WPFM5CvK"
      },
      "source": [
        "#Forward pass\n",
        "def forward_pass(a,w_ij,w_jk,j):\n",
        "    net_j=np.dot(a[[j],0:6],w_ij)\n",
        "    o_j=1/(1+np.exp(-net_j))\n",
        "    net_k=np.dot(o_j,w_jk)\n",
        "    o_k=1/(1+np.exp(-net_k))\n",
        "    return o_j,o_k "
      ],
      "execution_count": null,
      "outputs": []
    },
    {
      "cell_type": "code",
      "metadata": {
        "trusted": true,
        "id": "VMI_mu7r5CvL"
      },
      "source": [
        "#Backward pass\n",
        "def weights_updation_bp(a,l,o_j,o_k,w_ij,w_jk,j):\n",
        "    dw_ij=np.zeros((6,9))\n",
        "    dw_jk=np.dot(l*(a[[j],6]-o_k)*(o_k*(1-o_k)),o_j)\n",
        "    w_jk=w_jk+dw_jk.T\n",
        "    for k in range(9):\n",
        "        dw_ij[:,k]=np.dot(l*(a[[j],6]-o_k)*(o_k*(1-o_k))*w_jk[[k]]*o_j[0,k]*(1-o_j[0,k]),a[[j],0:6])\n",
        "    w_ij=w_ij+dw_ij\n",
        "    return w_jk,w_ij"
      ],
      "execution_count": null,
      "outputs": []
    },
    {
      "cell_type": "code",
      "metadata": {
        "trusted": true,
        "id": "RAgTkLxc5CvL",
        "colab": {
          "base_uri": "https://localhost:8080/"
        },
        "outputId": "b0f192f6-a69f-42f7-8a87-b67c2b704bcc"
      },
      "source": [
        "#Neural Nets\n",
        "l=0.001\n",
        "for i in range(100):\n",
        "    for j in range(q1):\n",
        "        o_j,o_k=forward_pass(a,w_ij,w_jk,j)\n",
        "        w_jk,w_ij=weights_updation_bp(a,l,o_j,o_k,w_ij,w_jk,j)\n",
        "print(w_jk)\n",
        "print(w_ij)"
      ],
      "execution_count": null,
      "outputs": [
        {
          "output_type": "stream",
          "text": [
            "[[-1.14672437]\n",
            " [ 0.78126667]\n",
            " [ 0.00595245]\n",
            " [-0.67029647]\n",
            " [ 0.77409234]\n",
            " [ 0.72744355]\n",
            " [-0.67549739]\n",
            " [-1.12025175]\n",
            " [-1.03171708]]\n",
            "[[-0.60328822  0.80222224  0.39515562 -0.93294733 -0.28950557  0.35490445\n",
            "  -0.27525424 -0.00835092 -0.76263073]\n",
            " [-0.3906545  -0.5978031  -0.10318481  0.4836195  -0.12253347  0.72042131\n",
            "  -0.92581091  0.18241761  0.31313709]\n",
            " [ 0.46701673  0.4655324  -0.58746723 -0.70630783  0.44483998 -0.21941568\n",
            "  -0.60313208 -0.76077107 -0.87457408]\n",
            " [-0.22590769  1.06255225  0.58773669  0.48152076  1.11137156 -0.46494093\n",
            "   0.81298814 -0.53668278  0.72792363]\n",
            " [-0.7950734  -0.01320388 -0.49033713 -0.21682415  0.17107679  0.92661005\n",
            "   0.01638296  0.45803727 -0.24427088]\n",
            " [-0.26441055 -0.45943848  0.34249196 -0.78290235 -0.22856655  0.94698226\n",
            "   0.30465025 -0.7269645  -0.44608428]]\n"
          ],
          "name": "stdout"
        }
      ]
    },
    {
      "cell_type": "code",
      "metadata": {
        "trusted": true,
        "id": "RWcEojs_5CvL",
        "colab": {
          "base_uri": "https://localhost:8080/"
        },
        "outputId": "4316329b-d657-4f57-b481-a96c880d8929"
      },
      "source": [
        "#Error Calculation\n",
        "p=np.zeros((q2,1))\n",
        "for z in range(q2):\n",
        "    _,p[z]=forward_pass(a_test,w_ij,w_jk,z)\n",
        "print(p.shape)"
      ],
      "execution_count": null,
      "outputs": [
        {
          "output_type": "stream",
          "text": [
            "(106, 1)\n"
          ],
          "name": "stdout"
        }
      ]
    },
    {
      "cell_type": "code",
      "metadata": {
        "trusted": true,
        "id": "h-dp7YXc5CvL",
        "colab": {
          "base_uri": "https://localhost:8080/"
        },
        "outputId": "8e510e2f-89b7-4cbf-e823-515fb9cf8f0b"
      },
      "source": [
        "from sklearn.metrics import mean_squared_error\n",
        "print(mean_squared_error(a_test[:,6],p))"
      ],
      "execution_count": null,
      "outputs": [
        {
          "output_type": "stream",
          "text": [
            "0.021446684374431996\n"
          ],
          "name": "stdout"
        }
      ]
    },
    {
      "cell_type": "code",
      "metadata": {
        "trusted": true,
        "id": "wm6jasCT5CvM",
        "colab": {
          "base_uri": "https://localhost:8080/"
        },
        "outputId": "51450ced-2213-4264-cdb7-626db1e8e641"
      },
      "source": [
        "c=10\n",
        "_,p=forward_pass(a,w_ij,w_jk,c)\n",
        "print(p[0]*(max_load-min_load)+min_load)\n",
        "print(a[c,6]*(max_load-min_load)+min_load)"
      ],
      "execution_count": null,
      "outputs": [
        {
          "output_type": "stream",
          "text": [
            "Load    5731.623289\n",
            "dtype: float64\n",
            "Load    5260.01472\n",
            "dtype: float64\n"
          ],
          "name": "stdout"
        }
      ]
    },
    {
      "cell_type": "markdown",
      "metadata": {
        "id": "N8_ySyiu5CvM"
      },
      "source": [
        "# ***# Implement ANN with keras - Regression Problem***\n",
        "\n",
        "---\n",
        "\n"
      ]
    },
    {
      "cell_type": "code",
      "metadata": {
        "trusted": true,
        "id": "bULWS7Eg5CvN"
      },
      "source": [
        "import warnings\n",
        "warnings.filterwarnings('ignore')\n",
        "\n",
        "import numpy as np\n",
        "import matplotlib.pyplot as plt\n",
        "import keras  #Keras is the deep learning library that helps you to code Deep Neural Networks with fewer lines of code\n",
        "#from keras.datasets import mnist\n",
        "from keras.models import Sequential\n",
        "from keras.layers import Dense\n",
        "from tensorflow.keras.optimizers import RMSprop,Adadelta,SGD,Adagrad,Adam\n",
        "#import pylab as plt\n",
        "#import seaborn as sns #For data visualization\n",
        "import pandas as pd # For Data manipulation"
      ],
      "execution_count": null,
      "outputs": []
    },
    {
      "cell_type": "code",
      "metadata": {
        "trusted": true,
        "id": "uaDdjepD5CvN",
        "colab": {
          "base_uri": "https://localhost:8080/"
        },
        "outputId": "f3f8dd6f-08c0-4e3a-de3b-537cd2d00cc7"
      },
      "source": [
        "load_data=pd.read_csv(\"/content/drive/MyDrive/PROJECT_Final.csv\")\n",
        "load_data.head()\n",
        "min_load=load_data.min()\n",
        "print(min_load)\n",
        "max_load=load_data.max()\n",
        "print(max_load)"
      ],
      "execution_count": null,
      "outputs": [
        {
          "output_type": "stream",
          "name": "stdout",
          "text": [
            "Load    3377.9196\n",
            "dtype: float64\n",
            "Load    8841.66948\n",
            "dtype: float64\n"
          ]
        }
      ]
    },
    {
      "cell_type": "code",
      "metadata": {
        "trusted": true,
        "id": "Ttz3zEDQ5CvN",
        "colab": {
          "base_uri": "https://localhost:8080/",
          "height": 318
        },
        "outputId": "0ff9e36f-b9b3-408a-f074-34a1ab06f1df"
      },
      "source": [
        "print(load_data.shape) # details about number of samples and features\n",
        "load_data.describe()"
      ],
      "execution_count": null,
      "outputs": [
        {
          "output_type": "stream",
          "name": "stdout",
          "text": [
            "(2184, 1)\n"
          ]
        },
        {
          "output_type": "execute_result",
          "data": {
            "text/plain": [
              "              Load\n",
              "count  2184.000000\n",
              "mean   6028.125312\n",
              "std    1066.398766\n",
              "min    3377.919600\n",
              "25%    5258.767680\n",
              "50%    5935.910400\n",
              "75%    6738.692400\n",
              "max    8841.669480"
            ],
            "text/html": [
              "\n",
              "  <div id=\"df-5fa125eb-af82-478e-9d7e-92bfaa39260f\">\n",
              "    <div class=\"colab-df-container\">\n",
              "      <div>\n",
              "<style scoped>\n",
              "    .dataframe tbody tr th:only-of-type {\n",
              "        vertical-align: middle;\n",
              "    }\n",
              "\n",
              "    .dataframe tbody tr th {\n",
              "        vertical-align: top;\n",
              "    }\n",
              "\n",
              "    .dataframe thead th {\n",
              "        text-align: right;\n",
              "    }\n",
              "</style>\n",
              "<table border=\"1\" class=\"dataframe\">\n",
              "  <thead>\n",
              "    <tr style=\"text-align: right;\">\n",
              "      <th></th>\n",
              "      <th>Load</th>\n",
              "    </tr>\n",
              "  </thead>\n",
              "  <tbody>\n",
              "    <tr>\n",
              "      <th>count</th>\n",
              "      <td>2184.000000</td>\n",
              "    </tr>\n",
              "    <tr>\n",
              "      <th>mean</th>\n",
              "      <td>6028.125312</td>\n",
              "    </tr>\n",
              "    <tr>\n",
              "      <th>std</th>\n",
              "      <td>1066.398766</td>\n",
              "    </tr>\n",
              "    <tr>\n",
              "      <th>min</th>\n",
              "      <td>3377.919600</td>\n",
              "    </tr>\n",
              "    <tr>\n",
              "      <th>25%</th>\n",
              "      <td>5258.767680</td>\n",
              "    </tr>\n",
              "    <tr>\n",
              "      <th>50%</th>\n",
              "      <td>5935.910400</td>\n",
              "    </tr>\n",
              "    <tr>\n",
              "      <th>75%</th>\n",
              "      <td>6738.692400</td>\n",
              "    </tr>\n",
              "    <tr>\n",
              "      <th>max</th>\n",
              "      <td>8841.669480</td>\n",
              "    </tr>\n",
              "  </tbody>\n",
              "</table>\n",
              "</div>\n",
              "      <button class=\"colab-df-convert\" onclick=\"convertToInteractive('df-5fa125eb-af82-478e-9d7e-92bfaa39260f')\"\n",
              "              title=\"Convert this dataframe to an interactive table.\"\n",
              "              style=\"display:none;\">\n",
              "        \n",
              "  <svg xmlns=\"http://www.w3.org/2000/svg\" height=\"24px\"viewBox=\"0 0 24 24\"\n",
              "       width=\"24px\">\n",
              "    <path d=\"M0 0h24v24H0V0z\" fill=\"none\"/>\n",
              "    <path d=\"M18.56 5.44l.94 2.06.94-2.06 2.06-.94-2.06-.94-.94-2.06-.94 2.06-2.06.94zm-11 1L8.5 8.5l.94-2.06 2.06-.94-2.06-.94L8.5 2.5l-.94 2.06-2.06.94zm10 10l.94 2.06.94-2.06 2.06-.94-2.06-.94-.94-2.06-.94 2.06-2.06.94z\"/><path d=\"M17.41 7.96l-1.37-1.37c-.4-.4-.92-.59-1.43-.59-.52 0-1.04.2-1.43.59L10.3 9.45l-7.72 7.72c-.78.78-.78 2.05 0 2.83L4 21.41c.39.39.9.59 1.41.59.51 0 1.02-.2 1.41-.59l7.78-7.78 2.81-2.81c.8-.78.8-2.07 0-2.86zM5.41 20L4 18.59l7.72-7.72 1.47 1.35L5.41 20z\"/>\n",
              "  </svg>\n",
              "      </button>\n",
              "      \n",
              "  <style>\n",
              "    .colab-df-container {\n",
              "      display:flex;\n",
              "      flex-wrap:wrap;\n",
              "      gap: 12px;\n",
              "    }\n",
              "\n",
              "    .colab-df-convert {\n",
              "      background-color: #E8F0FE;\n",
              "      border: none;\n",
              "      border-radius: 50%;\n",
              "      cursor: pointer;\n",
              "      display: none;\n",
              "      fill: #1967D2;\n",
              "      height: 32px;\n",
              "      padding: 0 0 0 0;\n",
              "      width: 32px;\n",
              "    }\n",
              "\n",
              "    .colab-df-convert:hover {\n",
              "      background-color: #E2EBFA;\n",
              "      box-shadow: 0px 1px 2px rgba(60, 64, 67, 0.3), 0px 1px 3px 1px rgba(60, 64, 67, 0.15);\n",
              "      fill: #174EA6;\n",
              "    }\n",
              "\n",
              "    [theme=dark] .colab-df-convert {\n",
              "      background-color: #3B4455;\n",
              "      fill: #D2E3FC;\n",
              "    }\n",
              "\n",
              "    [theme=dark] .colab-df-convert:hover {\n",
              "      background-color: #434B5C;\n",
              "      box-shadow: 0px 1px 3px 1px rgba(0, 0, 0, 0.15);\n",
              "      filter: drop-shadow(0px 1px 2px rgba(0, 0, 0, 0.3));\n",
              "      fill: #FFFFFF;\n",
              "    }\n",
              "  </style>\n",
              "\n",
              "      <script>\n",
              "        const buttonEl =\n",
              "          document.querySelector('#df-5fa125eb-af82-478e-9d7e-92bfaa39260f button.colab-df-convert');\n",
              "        buttonEl.style.display =\n",
              "          google.colab.kernel.accessAllowed ? 'block' : 'none';\n",
              "\n",
              "        async function convertToInteractive(key) {\n",
              "          const element = document.querySelector('#df-5fa125eb-af82-478e-9d7e-92bfaa39260f');\n",
              "          const dataTable =\n",
              "            await google.colab.kernel.invokeFunction('convertToInteractive',\n",
              "                                                     [key], {});\n",
              "          if (!dataTable) return;\n",
              "\n",
              "          const docLinkHtml = 'Like what you see? Visit the ' +\n",
              "            '<a target=\"_blank\" href=https://colab.research.google.com/notebooks/data_table.ipynb>data table notebook</a>'\n",
              "            + ' to learn more about interactive tables.';\n",
              "          element.innerHTML = '';\n",
              "          dataTable['output_type'] = 'display_data';\n",
              "          await google.colab.output.renderOutput(dataTable, element);\n",
              "          const docLink = document.createElement('div');\n",
              "          docLink.innerHTML = docLinkHtml;\n",
              "          element.appendChild(docLink);\n",
              "        }\n",
              "      </script>\n",
              "    </div>\n",
              "  </div>\n",
              "  "
            ]
          },
          "metadata": {},
          "execution_count": 32
        }
      ]
    },
    {
      "cell_type": "code",
      "metadata": {
        "trusted": true,
        "id": "84z8XHDO5CvN",
        "colab": {
          "base_uri": "https://localhost:8080/"
        },
        "outputId": "1c3c6e06-3190-4c2d-d0b6-3fc3207e9959"
      },
      "source": [
        "load_data.isnull().any()\n",
        "#load_data = load_data.fillna(method='ffill')"
      ],
      "execution_count": null,
      "outputs": [
        {
          "output_type": "execute_result",
          "data": {
            "text/plain": [
              "Load    False\n",
              "dtype: bool"
            ]
          },
          "metadata": {},
          "execution_count": 33
        }
      ]
    },
    {
      "cell_type": "code",
      "metadata": {
        "trusted": true,
        "id": "pO7SNraC5CvO",
        "colab": {
          "base_uri": "https://localhost:8080/"
        },
        "outputId": "079fc62b-79e4-4fa0-e105-4b1acc041e7c"
      },
      "source": [
        "from sklearn.preprocessing import MinMaxScaler\n",
        "ms=MinMaxScaler()\n",
        "load_data=ms.fit_transform(load_data)\n",
        "print(load_data)"
      ],
      "execution_count": null,
      "outputs": [
        {
          "output_type": "stream",
          "name": "stdout",
          "text": [
            "[[0.39787738]\n",
            " [0.29380046]\n",
            " [0.27645431]\n",
            " ...\n",
            " [0.24629825]\n",
            " [0.32438447]\n",
            " [0.65165045]]\n"
          ]
        }
      ]
    },
    {
      "cell_type": "code",
      "metadata": {
        "trusted": true,
        "id": "3SlFTY855CvO",
        "colab": {
          "base_uri": "https://localhost:8080/"
        },
        "outputId": "b9a7ae4a-30a2-4848-c43b-7ede28b9ef36"
      },
      "source": [
        "load_data_process=np.zeros((len(load_data)-72,7))\n",
        "print(load_data_process.shape)"
      ],
      "execution_count": null,
      "outputs": [
        {
          "output_type": "stream",
          "name": "stdout",
          "text": [
            "(2112, 7)\n"
          ]
        }
      ]
    },
    {
      "cell_type": "code",
      "metadata": {
        "trusted": true,
        "id": "4d1L0za-5CvO",
        "colab": {
          "base_uri": "https://localhost:8080/"
        },
        "outputId": "fb833dba-6aed-4cab-a758-884dbf582175"
      },
      "source": [
        "k=72\n",
        "for i in range(2112):\n",
        "    load_data_process[i,0],load_data_process[i,1],load_data_process[i,2],load_data_process[i,3],load_data_process[i,4],load_data_process[i,5],load_data_process[i,6]=load_data[k-1],load_data[k-2],load_data[k-3],load_data[k-24],load_data[k-48],load_data[k-72],load_data[k]\n",
        "    k=k+1\n",
        "print(load_data_process)"
      ],
      "execution_count": null,
      "outputs": [
        {
          "output_type": "stream",
          "name": "stdout",
          "text": [
            "[[0.44580754 0.55202419 0.4649796  ... 0.28430002 0.39787738 0.41017375]\n",
            " [0.41017375 0.44580754 0.55202419 ... 0.25579869 0.29380046 0.36723631]\n",
            " [0.36723631 0.41017375 0.44580754 ... 0.24450087 0.27645431 0.30646772]\n",
            " ...\n",
            " [0.21779692 0.22852415 0.3052124  ... 0.63393341 0.66531625 0.24629825]\n",
            " [0.24629825 0.21779692 0.22852415 ... 0.48380931 0.47074263 0.32438447]\n",
            " [0.32438447 0.24629825 0.21779692 ... 0.39228553 0.4173918  0.65165045]]\n"
          ]
        }
      ]
    },
    {
      "cell_type": "code",
      "metadata": {
        "trusted": true,
        "id": "bEfOjQEi5CvO",
        "colab": {
          "base_uri": "https://localhost:8080/"
        },
        "outputId": "dc492455-9fa0-4fc5-ff9d-caa66d798a35"
      },
      "source": [
        "dataset=pd.DataFrame(data=load_data_process[0:,0:]) \n",
        "print(dataset[1].values)"
      ],
      "execution_count": null,
      "outputs": [
        {
          "output_type": "stream",
          "name": "stdout",
          "text": [
            "[0.55202419 0.44580754 0.41017375 ... 0.22852415 0.21779692 0.24629825]\n"
          ]
        }
      ]
    },
    {
      "cell_type": "code",
      "metadata": {
        "trusted": true,
        "id": "g9WLyeeO5CvO",
        "colab": {
          "base_uri": "https://localhost:8080/"
        },
        "outputId": "b5f6135e-3352-45b4-fef8-e62264262138"
      },
      "source": [
        "X=dataset.iloc[:,0:6].values\n",
        "Y=dataset.iloc[:,6:].values\n",
        "print(X)\n",
        "print(Y)"
      ],
      "execution_count": null,
      "outputs": [
        {
          "output_type": "stream",
          "name": "stdout",
          "text": [
            "[[0.44580754 0.55202419 0.4649796  0.38115888 0.28430002 0.39787738]\n",
            " [0.41017375 0.44580754 0.55202419 0.31479844 0.25579869 0.29380046]\n",
            " [0.36723631 0.41017375 0.44580754 0.30840775 0.24450087 0.27645431]\n",
            " ...\n",
            " [0.21779692 0.22852415 0.3052124  0.68414596 0.63393341 0.66531625]\n",
            " [0.24629825 0.21779692 0.22852415 0.51467861 0.48380931 0.47074263]\n",
            " [0.32438447 0.24629825 0.21779692 0.41730621 0.39228553 0.4173918 ]]\n",
            "[[0.41017375]\n",
            " [0.36723631]\n",
            " [0.30646772]\n",
            " ...\n",
            " [0.24629825]\n",
            " [0.32438447]\n",
            " [0.65165045]]\n"
          ]
        }
      ]
    },
    {
      "cell_type": "code",
      "metadata": {
        "trusted": true,
        "id": "-MsEE2EQ5CvP",
        "colab": {
          "base_uri": "https://localhost:8080/"
        },
        "outputId": "33fc53bc-0d3b-4e9d-9c68-2d5b4e8c0334"
      },
      "source": [
        "from sklearn.model_selection import train_test_split\n",
        "X_train, X_test, y_train, y_test = train_test_split(X, Y, test_size=0.2, random_state=0)\n",
        "print(y_test[0:5])\n",
        "print(X_test.shape)\n",
        "print(X_train.shape)"
      ],
      "execution_count": null,
      "outputs": [
        {
          "output_type": "stream",
          "name": "stdout",
          "text": [
            "[[0.73122022]\n",
            " [0.54791589]\n",
            " [0.27154717]\n",
            " [0.83178797]\n",
            " [0.7313914 ]]\n",
            "(423, 6)\n",
            "(1689, 6)\n"
          ]
        }
      ]
    },
    {
      "cell_type": "code",
      "metadata": {
        "trusted": true,
        "id": "LSW-YsGy5CvP",
        "colab": {
          "base_uri": "https://localhost:8080/"
        },
        "outputId": "2683e69b-095c-4268-d85e-d2149a3dd750"
      },
      "source": [
        "#First_Layer_Size = 32 # Number of neurons in first layer\n",
        "model=Sequential()\n",
        "model.add(Dense(32,activation='tanh', input_shape=(6,)))\n",
        "model.add(Dense(32,activation='tanh'))\n",
        "model.add(Dense(32,activation='tanh'))\n",
        "model.add(Dense(1,activation='sigmoid'))\n",
        "model.summary()"
      ],
      "execution_count": null,
      "outputs": [
        {
          "output_type": "stream",
          "name": "stdout",
          "text": [
            "Model: \"sequential\"\n",
            "_________________________________________________________________\n",
            " Layer (type)                Output Shape              Param #   \n",
            "=================================================================\n",
            " dense (Dense)               (None, 32)                224       \n",
            "                                                                 \n",
            " dense_1 (Dense)             (None, 32)                1056      \n",
            "                                                                 \n",
            " dense_2 (Dense)             (None, 32)                1056      \n",
            "                                                                 \n",
            " dense_3 (Dense)             (None, 1)                 33        \n",
            "                                                                 \n",
            "=================================================================\n",
            "Total params: 2,369\n",
            "Trainable params: 2,369\n",
            "Non-trainable params: 0\n",
            "_________________________________________________________________\n"
          ]
        }
      ]
    },
    {
      "cell_type": "code",
      "metadata": {
        "trusted": true,
        "id": "XQSoZCg95CvP"
      },
      "source": [
        "model.compile(loss='MSE',\n",
        "              optimizer=SGD(),\n",
        "              metrics=['MSE'])"
      ],
      "execution_count": null,
      "outputs": []
    },
    {
      "cell_type": "code",
      "metadata": {
        "trusted": true,
        "id": "etWQXfGQ5CvP",
        "colab": {
          "base_uri": "https://localhost:8080/"
        },
        "outputId": "8a753be1-c5c1-4b76-d3f1-77a63ade5c7b"
      },
      "source": [
        "# Write the Training input and output variables, size of the batch, number of epochs\n",
        "history = model.fit(X_train,y_train,\n",
        "                    batch_size=1,\n",
        "                    epochs=10,verbose=1)"
      ],
      "execution_count": null,
      "outputs": [
        {
          "output_type": "stream",
          "name": "stdout",
          "text": [
            "Epoch 1/10\n",
            "1689/1689 [==============================] - 3s 1ms/step - loss: 0.0305 - MSE: 0.0305\n",
            "Epoch 2/10\n",
            "1689/1689 [==============================] - 2s 1ms/step - loss: 0.0156 - MSE: 0.0156\n",
            "Epoch 3/10\n",
            "1689/1689 [==============================] - 2s 1ms/step - loss: 0.0117 - MSE: 0.0117\n",
            "Epoch 4/10\n",
            "1689/1689 [==============================] - 2s 1ms/step - loss: 0.0111 - MSE: 0.0111\n",
            "Epoch 5/10\n",
            "1689/1689 [==============================] - 2s 1ms/step - loss: 0.0110 - MSE: 0.0110\n",
            "Epoch 6/10\n",
            "1689/1689 [==============================] - 2s 1ms/step - loss: 0.0109 - MSE: 0.0109\n",
            "Epoch 7/10\n",
            "1689/1689 [==============================] - 2s 1ms/step - loss: 0.0109 - MSE: 0.0109\n",
            "Epoch 8/10\n",
            "1689/1689 [==============================] - 2s 1ms/step - loss: 0.0108 - MSE: 0.0108\n",
            "Epoch 9/10\n",
            "1689/1689 [==============================] - 2s 1ms/step - loss: 0.0108 - MSE: 0.0108\n",
            "Epoch 10/10\n",
            "1689/1689 [==============================] - 2s 1ms/step - loss: 0.0107 - MSE: 0.0107\n"
          ]
        }
      ]
    },
    {
      "cell_type": "code",
      "metadata": {
        "trusted": true,
        "id": "XKOOW30L5CvP",
        "colab": {
          "base_uri": "https://localhost:8080/"
        },
        "outputId": "21ab7e1b-7b03-483a-af40-611ad3cd7e01"
      },
      "source": [
        "# Write the testing input and output variables\n",
        "score = model.evaluate(X_test, y_test, verbose=2)\n",
        "print('Test loss:', score[0])"
      ],
      "execution_count": null,
      "outputs": [
        {
          "output_type": "stream",
          "name": "stdout",
          "text": [
            "14/14 - 1s - loss: 0.0123 - MSE: 0.0123 - 521ms/epoch - 37ms/step\n",
            "Test loss: 0.01229963731020689\n"
          ]
        }
      ]
    },
    {
      "cell_type": "code",
      "metadata": {
        "trusted": true,
        "id": "Lytcx0Pw5CvP",
        "colab": {
          "base_uri": "https://localhost:8080/"
        },
        "outputId": "f53cbef4-8669-4fe2-c3e5-908a2e464389"
      },
      "source": [
        "# Write the index of the test sample to test\n",
        "print(X_test[0])\n",
        "prediction = model.predict(X_test[0].reshape(1,6))\n",
        "print(prediction[0]*(max_load-min_load)+min_load)\n",
        "print(y_test[0]*(max_load-min_load)+min_load)"
      ],
      "execution_count": null,
      "outputs": [
        {
          "output_type": "stream",
          "text": [
            "[0.74063507 0.44249807 0.37659411 0.6966991  0.82779379 0.74982169]\n",
            "Load    7405.160433\n",
            "dtype: float64\n",
            "Load    7373.124\n",
            "dtype: float64\n"
          ],
          "name": "stdout"
        }
      ]
    },
    {
      "cell_type": "markdown",
      "metadata": {
        "id": "Ie7qVENjRvYR"
      },
      "source": [
        "# ***Binary Classification***\n",
        "\n",
        "---\n",
        "\n",
        "\n",
        "\n",
        "\n"
      ]
    },
    {
      "cell_type": "code",
      "metadata": {
        "id": "8P9P6OITT8E6"
      },
      "source": [
        "import warnings\n",
        "warnings.filterwarnings('ignore')\n",
        "\n",
        "import numpy as np\n",
        "import matplotlib.pyplot as plt\n",
        "import keras  #Keras is the deep learning library that helps you to code Deep Neural Networks with fewer lines of code\n",
        "#from keras.datasets import mnist\n",
        "from keras.models import Sequential\n",
        "from keras.layers import Dense\n",
        "from keras.optimizers import RMSprop,Adadelta,SGD,Adagrad,Adam\n",
        "#import pylab as plt\n",
        "#import seaborn as sns #For data visualization\n",
        "import pandas as pd # For Data manipulation"
      ],
      "execution_count": null,
      "outputs": []
    },
    {
      "cell_type": "code",
      "metadata": {
        "colab": {
          "base_uri": "https://localhost:8080/"
        },
        "id": "yb0mu82SR5kA",
        "outputId": "0e5d1ae3-a5aa-42ab-d9fc-d8bc07f6ce32"
      },
      "source": [
        "diabetes_data=pd.read_csv(\"/content/drive/MyDrive/diabetes.csv\")\n",
        "diabetes_data.head()"
      ],
      "execution_count": null,
      "outputs": [
        {
          "output_type": "execute_result",
          "data": {
            "text/html": [
              "<div>\n",
              "<style scoped>\n",
              "    .dataframe tbody tr th:only-of-type {\n",
              "        vertical-align: middle;\n",
              "    }\n",
              "\n",
              "    .dataframe tbody tr th {\n",
              "        vertical-align: top;\n",
              "    }\n",
              "\n",
              "    .dataframe thead th {\n",
              "        text-align: right;\n",
              "    }\n",
              "</style>\n",
              "<table border=\"1\" class=\"dataframe\">\n",
              "  <thead>\n",
              "    <tr style=\"text-align: right;\">\n",
              "      <th></th>\n",
              "      <th>Pregnancies</th>\n",
              "      <th>Glucose</th>\n",
              "      <th>BloodPressure</th>\n",
              "      <th>SkinThickness</th>\n",
              "      <th>Insulin</th>\n",
              "      <th>BMI</th>\n",
              "      <th>DiabetesPedigreeFunction</th>\n",
              "      <th>Age</th>\n",
              "      <th>Outcome</th>\n",
              "    </tr>\n",
              "  </thead>\n",
              "  <tbody>\n",
              "    <tr>\n",
              "      <th>0</th>\n",
              "      <td>6</td>\n",
              "      <td>148</td>\n",
              "      <td>72</td>\n",
              "      <td>35</td>\n",
              "      <td>0</td>\n",
              "      <td>33.6</td>\n",
              "      <td>0.627</td>\n",
              "      <td>50</td>\n",
              "      <td>1</td>\n",
              "    </tr>\n",
              "    <tr>\n",
              "      <th>1</th>\n",
              "      <td>1</td>\n",
              "      <td>85</td>\n",
              "      <td>66</td>\n",
              "      <td>29</td>\n",
              "      <td>0</td>\n",
              "      <td>26.6</td>\n",
              "      <td>0.351</td>\n",
              "      <td>31</td>\n",
              "      <td>0</td>\n",
              "    </tr>\n",
              "    <tr>\n",
              "      <th>2</th>\n",
              "      <td>8</td>\n",
              "      <td>183</td>\n",
              "      <td>64</td>\n",
              "      <td>0</td>\n",
              "      <td>0</td>\n",
              "      <td>23.3</td>\n",
              "      <td>0.672</td>\n",
              "      <td>32</td>\n",
              "      <td>1</td>\n",
              "    </tr>\n",
              "    <tr>\n",
              "      <th>3</th>\n",
              "      <td>1</td>\n",
              "      <td>89</td>\n",
              "      <td>66</td>\n",
              "      <td>23</td>\n",
              "      <td>94</td>\n",
              "      <td>28.1</td>\n",
              "      <td>0.167</td>\n",
              "      <td>21</td>\n",
              "      <td>0</td>\n",
              "    </tr>\n",
              "    <tr>\n",
              "      <th>4</th>\n",
              "      <td>0</td>\n",
              "      <td>137</td>\n",
              "      <td>40</td>\n",
              "      <td>35</td>\n",
              "      <td>168</td>\n",
              "      <td>43.1</td>\n",
              "      <td>2.288</td>\n",
              "      <td>33</td>\n",
              "      <td>1</td>\n",
              "    </tr>\n",
              "  </tbody>\n",
              "</table>\n",
              "</div>"
            ],
            "text/plain": [
              "   Pregnancies  Glucose  BloodPressure  ...  DiabetesPedigreeFunction  Age  Outcome\n",
              "0            6      148             72  ...                     0.627   50        1\n",
              "1            1       85             66  ...                     0.351   31        0\n",
              "2            8      183             64  ...                     0.672   32        1\n",
              "3            1       89             66  ...                     0.167   21        0\n",
              "4            0      137             40  ...                     2.288   33        1\n",
              "\n",
              "[5 rows x 9 columns]"
            ]
          },
          "metadata": {
            "tags": []
          },
          "execution_count": 41
        }
      ]
    },
    {
      "cell_type": "code",
      "metadata": {
        "colab": {
          "base_uri": "https://localhost:8080/"
        },
        "id": "lTFW71DHUPYR",
        "outputId": "0c061792-cf32-4a2f-e84b-d6fcfff4c2ac"
      },
      "source": [
        "print(diabetes_data.shape) # details about number of samples and features\n",
        "diabetes_data.describe()"
      ],
      "execution_count": null,
      "outputs": [
        {
          "output_type": "stream",
          "text": [
            "(768, 9)\n"
          ],
          "name": "stdout"
        },
        {
          "output_type": "execute_result",
          "data": {
            "text/html": [
              "<div>\n",
              "<style scoped>\n",
              "    .dataframe tbody tr th:only-of-type {\n",
              "        vertical-align: middle;\n",
              "    }\n",
              "\n",
              "    .dataframe tbody tr th {\n",
              "        vertical-align: top;\n",
              "    }\n",
              "\n",
              "    .dataframe thead th {\n",
              "        text-align: right;\n",
              "    }\n",
              "</style>\n",
              "<table border=\"1\" class=\"dataframe\">\n",
              "  <thead>\n",
              "    <tr style=\"text-align: right;\">\n",
              "      <th></th>\n",
              "      <th>Pregnancies</th>\n",
              "      <th>Glucose</th>\n",
              "      <th>BloodPressure</th>\n",
              "      <th>SkinThickness</th>\n",
              "      <th>Insulin</th>\n",
              "      <th>BMI</th>\n",
              "      <th>DiabetesPedigreeFunction</th>\n",
              "      <th>Age</th>\n",
              "      <th>Outcome</th>\n",
              "    </tr>\n",
              "  </thead>\n",
              "  <tbody>\n",
              "    <tr>\n",
              "      <th>count</th>\n",
              "      <td>768.000000</td>\n",
              "      <td>768.000000</td>\n",
              "      <td>768.000000</td>\n",
              "      <td>768.000000</td>\n",
              "      <td>768.000000</td>\n",
              "      <td>768.000000</td>\n",
              "      <td>768.000000</td>\n",
              "      <td>768.000000</td>\n",
              "      <td>768.000000</td>\n",
              "    </tr>\n",
              "    <tr>\n",
              "      <th>mean</th>\n",
              "      <td>3.845052</td>\n",
              "      <td>120.894531</td>\n",
              "      <td>69.105469</td>\n",
              "      <td>20.536458</td>\n",
              "      <td>79.799479</td>\n",
              "      <td>31.992578</td>\n",
              "      <td>0.471876</td>\n",
              "      <td>33.240885</td>\n",
              "      <td>0.348958</td>\n",
              "    </tr>\n",
              "    <tr>\n",
              "      <th>std</th>\n",
              "      <td>3.369578</td>\n",
              "      <td>31.972618</td>\n",
              "      <td>19.355807</td>\n",
              "      <td>15.952218</td>\n",
              "      <td>115.244002</td>\n",
              "      <td>7.884160</td>\n",
              "      <td>0.331329</td>\n",
              "      <td>11.760232</td>\n",
              "      <td>0.476951</td>\n",
              "    </tr>\n",
              "    <tr>\n",
              "      <th>min</th>\n",
              "      <td>0.000000</td>\n",
              "      <td>0.000000</td>\n",
              "      <td>0.000000</td>\n",
              "      <td>0.000000</td>\n",
              "      <td>0.000000</td>\n",
              "      <td>0.000000</td>\n",
              "      <td>0.078000</td>\n",
              "      <td>21.000000</td>\n",
              "      <td>0.000000</td>\n",
              "    </tr>\n",
              "    <tr>\n",
              "      <th>25%</th>\n",
              "      <td>1.000000</td>\n",
              "      <td>99.000000</td>\n",
              "      <td>62.000000</td>\n",
              "      <td>0.000000</td>\n",
              "      <td>0.000000</td>\n",
              "      <td>27.300000</td>\n",
              "      <td>0.243750</td>\n",
              "      <td>24.000000</td>\n",
              "      <td>0.000000</td>\n",
              "    </tr>\n",
              "    <tr>\n",
              "      <th>50%</th>\n",
              "      <td>3.000000</td>\n",
              "      <td>117.000000</td>\n",
              "      <td>72.000000</td>\n",
              "      <td>23.000000</td>\n",
              "      <td>30.500000</td>\n",
              "      <td>32.000000</td>\n",
              "      <td>0.372500</td>\n",
              "      <td>29.000000</td>\n",
              "      <td>0.000000</td>\n",
              "    </tr>\n",
              "    <tr>\n",
              "      <th>75%</th>\n",
              "      <td>6.000000</td>\n",
              "      <td>140.250000</td>\n",
              "      <td>80.000000</td>\n",
              "      <td>32.000000</td>\n",
              "      <td>127.250000</td>\n",
              "      <td>36.600000</td>\n",
              "      <td>0.626250</td>\n",
              "      <td>41.000000</td>\n",
              "      <td>1.000000</td>\n",
              "    </tr>\n",
              "    <tr>\n",
              "      <th>max</th>\n",
              "      <td>17.000000</td>\n",
              "      <td>199.000000</td>\n",
              "      <td>122.000000</td>\n",
              "      <td>99.000000</td>\n",
              "      <td>846.000000</td>\n",
              "      <td>67.100000</td>\n",
              "      <td>2.420000</td>\n",
              "      <td>81.000000</td>\n",
              "      <td>1.000000</td>\n",
              "    </tr>\n",
              "  </tbody>\n",
              "</table>\n",
              "</div>"
            ],
            "text/plain": [
              "       Pregnancies     Glucose  ...         Age     Outcome\n",
              "count   768.000000  768.000000  ...  768.000000  768.000000\n",
              "mean      3.845052  120.894531  ...   33.240885    0.348958\n",
              "std       3.369578   31.972618  ...   11.760232    0.476951\n",
              "min       0.000000    0.000000  ...   21.000000    0.000000\n",
              "25%       1.000000   99.000000  ...   24.000000    0.000000\n",
              "50%       3.000000  117.000000  ...   29.000000    0.000000\n",
              "75%       6.000000  140.250000  ...   41.000000    1.000000\n",
              "max      17.000000  199.000000  ...   81.000000    1.000000\n",
              "\n",
              "[8 rows x 9 columns]"
            ]
          },
          "metadata": {
            "tags": []
          },
          "execution_count": 42
        }
      ]
    },
    {
      "cell_type": "code",
      "metadata": {
        "colab": {
          "base_uri": "https://localhost:8080/"
        },
        "id": "tZGNTZXIUckH",
        "outputId": "68ad13a9-cc69-45dc-d6b2-a3792b6102c1"
      },
      "source": [
        "diabetes_data.isnull().any()"
      ],
      "execution_count": null,
      "outputs": [
        {
          "output_type": "execute_result",
          "data": {
            "text/plain": [
              "Pregnancies                 False\n",
              "Glucose                     False\n",
              "BloodPressure               False\n",
              "SkinThickness               False\n",
              "Insulin                     False\n",
              "BMI                         False\n",
              "DiabetesPedigreeFunction    False\n",
              "Age                         False\n",
              "Outcome                     False\n",
              "dtype: bool"
            ]
          },
          "metadata": {
            "tags": []
          },
          "execution_count": 43
        }
      ]
    },
    {
      "cell_type": "code",
      "metadata": {
        "colab": {
          "base_uri": "https://localhost:8080/"
        },
        "id": "WwM1jpFLVIGg",
        "outputId": "1a0c2a79-26ac-4a31-c150-55f0a2c02df1"
      },
      "source": [
        "from sklearn.preprocessing import MinMaxScaler\n",
        "ms=MinMaxScaler()\n",
        "diabetes_data=ms.fit_transform(diabetes_data)\n",
        "print(diabetes_data)"
      ],
      "execution_count": null,
      "outputs": [
        {
          "output_type": "stream",
          "text": [
            "[[0.35294118 0.74371859 0.59016393 ... 0.23441503 0.48333333 1.        ]\n",
            " [0.05882353 0.42713568 0.54098361 ... 0.11656704 0.16666667 0.        ]\n",
            " [0.47058824 0.91959799 0.52459016 ... 0.25362938 0.18333333 1.        ]\n",
            " ...\n",
            " [0.29411765 0.6080402  0.59016393 ... 0.07130658 0.15       0.        ]\n",
            " [0.05882353 0.63316583 0.49180328 ... 0.11571307 0.43333333 1.        ]\n",
            " [0.05882353 0.46733668 0.57377049 ... 0.10119556 0.03333333 0.        ]]\n"
          ],
          "name": "stdout"
        }
      ]
    },
    {
      "cell_type": "code",
      "metadata": {
        "id": "_QTQqid7VRVS"
      },
      "source": [
        "dataset=pd.DataFrame(data=diabetes_data[0:,0:]) "
      ],
      "execution_count": null,
      "outputs": []
    },
    {
      "cell_type": "code",
      "metadata": {
        "id": "q8x6hrY0WFE6"
      },
      "source": [
        "X=dataset.iloc[:,0:8].values\n",
        "Y=dataset.iloc[:,8:].values"
      ],
      "execution_count": null,
      "outputs": []
    },
    {
      "cell_type": "code",
      "metadata": {
        "colab": {
          "base_uri": "https://localhost:8080/"
        },
        "id": "u2vJ-NqmWd2R",
        "outputId": "29d88f9b-b493-42a9-81a5-dba3ba337a68"
      },
      "source": [
        "from sklearn.model_selection import train_test_split\n",
        "X_train, X_test, y_train, y_test = train_test_split(X, Y, test_size=0.2, random_state=0)\n",
        "print(y_test[0:5])\n",
        "print(X_train)"
      ],
      "execution_count": null,
      "outputs": [
        {
          "output_type": "stream",
          "text": [
            "[[1.]\n",
            " [0.]\n",
            " [0.]\n",
            " [1.]\n",
            " [0.]]\n",
            "[[0.41176471 0.75376884 0.63934426 ... 0.52459016 0.26216909 0.55      ]\n",
            " [0.23529412 0.48743719 0.49180328 ... 0.42026826 0.1558497  0.01666667]\n",
            " [0.         0.82914573 0.73770492 ... 0.77943368 0.14901793 0.03333333]\n",
            " ...\n",
            " [0.23529412 0.47236181 0.53278689 ... 0.3681073  0.02988898 0.        ]\n",
            " [0.64705882 0.42713568 0.60655738 ... 0.4485842  0.09479078 0.23333333]\n",
            " [0.29411765 0.68341709 0.67213115 ... 0.         0.23996584 0.8       ]]\n"
          ],
          "name": "stdout"
        }
      ]
    },
    {
      "cell_type": "code",
      "metadata": {
        "colab": {
          "base_uri": "https://localhost:8080/"
        },
        "id": "DV6_LQDyWj9w",
        "outputId": "38127a7d-2245-4a72-f2bf-733fff2aef2d"
      },
      "source": [
        "First_Layer_Size = 32 # Number of neurons in first layer\n",
        "model=Sequential()\n",
        "model.add(Dense(First_Layer_Size,activation='tanh', input_shape=(8,)))\n",
        "model.add(Dense(32,activation='tanh'))\n",
        "model.add(Dense(32,activation='tanh'))\n",
        "model.add(Dense(1,activation='sigmoid'))\n",
        "model.summary()"
      ],
      "execution_count": null,
      "outputs": [
        {
          "output_type": "stream",
          "text": [
            "Model: \"sequential_1\"\n",
            "_________________________________________________________________\n",
            "Layer (type)                 Output Shape              Param #   \n",
            "=================================================================\n",
            "dense_4 (Dense)              (None, 32)                288       \n",
            "_________________________________________________________________\n",
            "dense_5 (Dense)              (None, 32)                1056      \n",
            "_________________________________________________________________\n",
            "dense_6 (Dense)              (None, 32)                1056      \n",
            "_________________________________________________________________\n",
            "dense_7 (Dense)              (None, 1)                 33        \n",
            "=================================================================\n",
            "Total params: 2,433\n",
            "Trainable params: 2,433\n",
            "Non-trainable params: 0\n",
            "_________________________________________________________________\n"
          ],
          "name": "stdout"
        }
      ]
    },
    {
      "cell_type": "code",
      "metadata": {
        "id": "SYJd1QVdXEki"
      },
      "source": [
        "model.compile(loss='binary_crossentropy', optimizer='adam', metrics=['accuracy'])"
      ],
      "execution_count": null,
      "outputs": []
    },
    {
      "cell_type": "code",
      "metadata": {
        "colab": {
          "base_uri": "https://localhost:8080/"
        },
        "id": "1eLwIiKfXLlI",
        "outputId": "64d6fba6-26b4-4a25-bc6a-19b90030cf40"
      },
      "source": [
        "# Write the Training input and output variables, size of the batch, number of epochs\n",
        "history = model.fit(X_train,y_train,batch_size=1,epochs=10,verbose=1)"
      ],
      "execution_count": null,
      "outputs": [
        {
          "output_type": "stream",
          "text": [
            "Epoch 1/10\n",
            "614/614 [==============================] - 1s 1ms/step - loss: 0.6481 - accuracy: 0.6529\n",
            "Epoch 2/10\n",
            "614/614 [==============================] - 1s 1ms/step - loss: 0.6003 - accuracy: 0.6830\n",
            "Epoch 3/10\n",
            "614/614 [==============================] - 1s 1ms/step - loss: 0.5780 - accuracy: 0.7054\n",
            "Epoch 4/10\n",
            "614/614 [==============================] - 1s 1ms/step - loss: 0.5081 - accuracy: 0.7720\n",
            "Epoch 5/10\n",
            "614/614 [==============================] - 1s 1ms/step - loss: 0.5197 - accuracy: 0.7581\n",
            "Epoch 6/10\n",
            "614/614 [==============================] - 1s 1ms/step - loss: 0.5147 - accuracy: 0.7571\n",
            "Epoch 7/10\n",
            "614/614 [==============================] - 1s 1ms/step - loss: 0.4946 - accuracy: 0.7423\n",
            "Epoch 8/10\n",
            "614/614 [==============================] - 1s 1ms/step - loss: 0.4937 - accuracy: 0.7552\n",
            "Epoch 9/10\n",
            "614/614 [==============================] - 1s 1ms/step - loss: 0.4781 - accuracy: 0.7632\n",
            "Epoch 10/10\n",
            "614/614 [==============================] - 1s 1ms/step - loss: 0.4809 - accuracy: 0.7634\n"
          ],
          "name": "stdout"
        }
      ]
    },
    {
      "cell_type": "code",
      "metadata": {
        "colab": {
          "base_uri": "https://localhost:8080/"
        },
        "id": "el-Re-e2Yi4x",
        "outputId": "c594822c-9dcc-4f06-b4f2-1a36be0cbb99"
      },
      "source": [
        "# Write the testing input and output variables\n",
        "score = model.evaluate(X_test, y_test, verbose=1)\n",
        "print('Test loss:', score[0])\n",
        "print('Test accuracy:', score[1])"
      ],
      "execution_count": null,
      "outputs": [
        {
          "output_type": "stream",
          "text": [
            "5/5 [==============================] - 0s 2ms/step - loss: 0.5085 - accuracy: 0.7597\n",
            "Test loss: 0.5085141062736511\n",
            "Test accuracy: 0.7597402334213257\n"
          ],
          "name": "stdout"
        }
      ]
    },
    {
      "cell_type": "code",
      "metadata": {
        "colab": {
          "base_uri": "https://localhost:8080/"
        },
        "id": "X9jEwm_6Yuow",
        "outputId": "b5054653-6a84-4f42-ab7b-6350a352b837"
      },
      "source": [
        "# Write the index of the test sample to test\n",
        "print(X_test[0])\n",
        "prediction = model.predict(X_test[0].reshape(1,8))\n",
        "print(\"Prediction class:\",np.round(prediction[0]))\n",
        "print(\"Actual class:\",y_test[0])"
      ],
      "execution_count": null,
      "outputs": [
        {
          "output_type": "stream",
          "text": [
            "[0.05882353 1.         0.62295082 0.43434343 0.         0.63934426\n",
            " 0.56191289 0.01666667]\n",
            "Prediction class: [1.]\n",
            "Actual class: [1.]\n"
          ],
          "name": "stdout"
        }
      ]
    },
    {
      "cell_type": "markdown",
      "metadata": {
        "id": "Vo79cYQFkeFi"
      },
      "source": [
        "# ***Categorical Classification***\n",
        "\n",
        "---\n",
        "\n"
      ]
    },
    {
      "cell_type": "code",
      "metadata": {
        "id": "SveRDqh7a8N3"
      },
      "source": [
        "import warnings\n",
        "warnings.filterwarnings('ignore')\n",
        "\n",
        "import numpy as np\n",
        "import matplotlib.pyplot as plt\n",
        "import keras  #Keras is the deep learning library that helps you to code Deep Neural Networks with fewer lines of code\n",
        "#from keras.datasets import mnist\n",
        "from keras.models import Sequential\n",
        "from keras.layers import Dense\n",
        "from keras.optimizers import RMSprop,Adadelta,SGD,Adagrad,Adam\n",
        "#import pylab as plt\n",
        "#import seaborn as sns #For data visualization\n",
        "import pandas as pd # For Data manipulation\n",
        "\n",
        "from sklearn.preprocessing import LabelEncoder\n",
        "from keras.utils import np_utils"
      ],
      "execution_count": null,
      "outputs": []
    },
    {
      "cell_type": "code",
      "metadata": {
        "colab": {
          "base_uri": "https://localhost:8080/",
          "height": 204
        },
        "id": "91jQLjqJjWxe",
        "outputId": "5fabc5a1-10ab-4fb4-e482-44297df76e67"
      },
      "source": [
        "dataframe = pd.read_csv(\"/content/drive/MyDrive/winequality-red.csv\")\n",
        "dataframe.head()"
      ],
      "execution_count": null,
      "outputs": [
        {
          "output_type": "execute_result",
          "data": {
            "text/html": [
              "<div>\n",
              "<style scoped>\n",
              "    .dataframe tbody tr th:only-of-type {\n",
              "        vertical-align: middle;\n",
              "    }\n",
              "\n",
              "    .dataframe tbody tr th {\n",
              "        vertical-align: top;\n",
              "    }\n",
              "\n",
              "    .dataframe thead th {\n",
              "        text-align: right;\n",
              "    }\n",
              "</style>\n",
              "<table border=\"1\" class=\"dataframe\">\n",
              "  <thead>\n",
              "    <tr style=\"text-align: right;\">\n",
              "      <th></th>\n",
              "      <th>fixed acidity</th>\n",
              "      <th>volatile acidity</th>\n",
              "      <th>citric acid</th>\n",
              "      <th>residual sugar</th>\n",
              "      <th>chlorides</th>\n",
              "      <th>free sulfur dioxide</th>\n",
              "      <th>total sulfur dioxide</th>\n",
              "      <th>density</th>\n",
              "      <th>pH</th>\n",
              "      <th>sulphates</th>\n",
              "      <th>alcohol</th>\n",
              "      <th>quality</th>\n",
              "    </tr>\n",
              "  </thead>\n",
              "  <tbody>\n",
              "    <tr>\n",
              "      <th>0</th>\n",
              "      <td>7.4</td>\n",
              "      <td>0.70</td>\n",
              "      <td>0.00</td>\n",
              "      <td>1.9</td>\n",
              "      <td>0.076</td>\n",
              "      <td>11.0</td>\n",
              "      <td>34.0</td>\n",
              "      <td>0.9978</td>\n",
              "      <td>3.51</td>\n",
              "      <td>0.56</td>\n",
              "      <td>9.4</td>\n",
              "      <td>5</td>\n",
              "    </tr>\n",
              "    <tr>\n",
              "      <th>1</th>\n",
              "      <td>7.8</td>\n",
              "      <td>0.88</td>\n",
              "      <td>0.00</td>\n",
              "      <td>2.6</td>\n",
              "      <td>0.098</td>\n",
              "      <td>25.0</td>\n",
              "      <td>67.0</td>\n",
              "      <td>0.9968</td>\n",
              "      <td>3.20</td>\n",
              "      <td>0.68</td>\n",
              "      <td>9.8</td>\n",
              "      <td>5</td>\n",
              "    </tr>\n",
              "    <tr>\n",
              "      <th>2</th>\n",
              "      <td>7.8</td>\n",
              "      <td>0.76</td>\n",
              "      <td>0.04</td>\n",
              "      <td>2.3</td>\n",
              "      <td>0.092</td>\n",
              "      <td>15.0</td>\n",
              "      <td>54.0</td>\n",
              "      <td>0.9970</td>\n",
              "      <td>3.26</td>\n",
              "      <td>0.65</td>\n",
              "      <td>9.8</td>\n",
              "      <td>5</td>\n",
              "    </tr>\n",
              "    <tr>\n",
              "      <th>3</th>\n",
              "      <td>11.2</td>\n",
              "      <td>0.28</td>\n",
              "      <td>0.56</td>\n",
              "      <td>1.9</td>\n",
              "      <td>0.075</td>\n",
              "      <td>17.0</td>\n",
              "      <td>60.0</td>\n",
              "      <td>0.9980</td>\n",
              "      <td>3.16</td>\n",
              "      <td>0.58</td>\n",
              "      <td>9.8</td>\n",
              "      <td>6</td>\n",
              "    </tr>\n",
              "    <tr>\n",
              "      <th>4</th>\n",
              "      <td>7.4</td>\n",
              "      <td>0.70</td>\n",
              "      <td>0.00</td>\n",
              "      <td>1.9</td>\n",
              "      <td>0.076</td>\n",
              "      <td>11.0</td>\n",
              "      <td>34.0</td>\n",
              "      <td>0.9978</td>\n",
              "      <td>3.51</td>\n",
              "      <td>0.56</td>\n",
              "      <td>9.4</td>\n",
              "      <td>5</td>\n",
              "    </tr>\n",
              "  </tbody>\n",
              "</table>\n",
              "</div>"
            ],
            "text/plain": [
              "   fixed acidity  volatile acidity  citric acid  ...  sulphates  alcohol  quality\n",
              "0            7.4              0.70         0.00  ...       0.56      9.4        5\n",
              "1            7.8              0.88         0.00  ...       0.68      9.8        5\n",
              "2            7.8              0.76         0.04  ...       0.65      9.8        5\n",
              "3           11.2              0.28         0.56  ...       0.58      9.8        6\n",
              "4            7.4              0.70         0.00  ...       0.56      9.4        5\n",
              "\n",
              "[5 rows x 12 columns]"
            ]
          },
          "metadata": {
            "tags": []
          },
          "execution_count": 54
        }
      ]
    },
    {
      "cell_type": "code",
      "metadata": {
        "id": "J-yWxLdZbC-_",
        "colab": {
          "base_uri": "https://localhost:8080/"
        },
        "outputId": "0e26b679-b4cd-4728-d20c-6cb3a2434da4"
      },
      "source": [
        "dataset = dataframe.values\n",
        "X = dataset[0:,0:11].astype(float)\n",
        "Y = dataset[0:,11]\n",
        "print(X[0:])"
      ],
      "execution_count": null,
      "outputs": [
        {
          "output_type": "stream",
          "text": [
            "[[ 7.4    0.7    0.    ...  3.51   0.56   9.4  ]\n",
            " [ 7.8    0.88   0.    ...  3.2    0.68   9.8  ]\n",
            " [ 7.8    0.76   0.04  ...  3.26   0.65   9.8  ]\n",
            " ...\n",
            " [ 6.3    0.51   0.13  ...  3.42   0.75  11.   ]\n",
            " [ 5.9    0.645  0.12  ...  3.57   0.71  10.2  ]\n",
            " [ 6.     0.31   0.47  ...  3.39   0.66  11.   ]]\n"
          ],
          "name": "stdout"
        }
      ]
    },
    {
      "cell_type": "code",
      "metadata": {
        "colab": {
          "base_uri": "https://localhost:8080/"
        },
        "id": "UokUEjlScwgY",
        "outputId": "b6c4973d-8ec5-4452-a58c-48689403c583"
      },
      "source": [
        "from sklearn.preprocessing import MinMaxScaler\n",
        "ms=MinMaxScaler()\n",
        "red_wine_data_X=ms.fit_transform(X)\n",
        "print(red_wine_data_X)"
      ],
      "execution_count": null,
      "outputs": [
        {
          "output_type": "stream",
          "text": [
            "[[0.24778761 0.39726027 0.         ... 0.60629921 0.13772455 0.15384615]\n",
            " [0.28318584 0.52054795 0.         ... 0.36220472 0.20958084 0.21538462]\n",
            " [0.28318584 0.43835616 0.04       ... 0.40944882 0.19161677 0.21538462]\n",
            " ...\n",
            " [0.15044248 0.26712329 0.13       ... 0.53543307 0.25149701 0.4       ]\n",
            " [0.11504425 0.35958904 0.12       ... 0.65354331 0.22754491 0.27692308]\n",
            " [0.12389381 0.13013699 0.47       ... 0.51181102 0.19760479 0.4       ]]\n"
          ],
          "name": "stdout"
        }
      ]
    },
    {
      "cell_type": "code",
      "metadata": {
        "colab": {
          "base_uri": "https://localhost:8080/"
        },
        "id": "DpRyolrFhusu",
        "outputId": "02a00ef3-7a3f-49c0-ee0d-4e2e23bc8413"
      },
      "source": [
        "# encode class values as integers\n",
        "encoder = LabelEncoder()\n",
        "encoder.fit(Y)\n",
        "encoded_Y = encoder.transform(Y)\n",
        "# convert integers to dummy variables (i.e. one hot encoded)\n",
        "dummy_y = np_utils.to_categorical(encoded_Y)\n",
        "print(dummy_y)"
      ],
      "execution_count": null,
      "outputs": [
        {
          "output_type": "stream",
          "text": [
            "[[0. 0. 1. 0. 0. 0.]\n",
            " [0. 0. 1. 0. 0. 0.]\n",
            " [0. 0. 1. 0. 0. 0.]\n",
            " ...\n",
            " [0. 0. 0. 1. 0. 0.]\n",
            " [0. 0. 1. 0. 0. 0.]\n",
            " [0. 0. 0. 1. 0. 0.]]\n"
          ],
          "name": "stdout"
        }
      ]
    },
    {
      "cell_type": "code",
      "metadata": {
        "colab": {
          "base_uri": "https://localhost:8080/"
        },
        "id": "y5bB51PajAl2",
        "outputId": "63e04a45-d3e4-4c9d-cab1-65768f3645b5"
      },
      "source": [
        "from sklearn.model_selection import train_test_split\n",
        "X_train, X_test, y_train, y_test = train_test_split(red_wine_data_X, dummy_y, test_size=0.2, random_state=0)\n",
        "print(y_test[0:5])\n",
        "print(X_train)"
      ],
      "execution_count": null,
      "outputs": [
        {
          "output_type": "stream",
          "text": [
            "[[0. 0. 0. 1. 0. 0.]\n",
            " [0. 0. 1. 0. 0. 0.]\n",
            " [0. 0. 0. 0. 1. 0.]\n",
            " [0. 0. 0. 1. 0. 0.]\n",
            " [0. 0. 1. 0. 0. 0.]]\n",
            "[[0.46902655 0.28767123 0.45       ... 0.51181102 0.17365269 0.15384615]\n",
            " [0.54867257 0.09589041 0.45       ... 0.30708661 0.1257485  0.18461538]\n",
            " [0.46902655 0.15753425 0.55       ... 0.40944882 0.2754491  0.33846154]\n",
            " ...\n",
            " [0.2920354  0.30821918 0.31       ... 0.43307087 0.21556886 0.16923077]\n",
            " [0.74336283 0.23972603 0.49       ... 0.44094488 0.20958084 0.66153846]\n",
            " [0.46017699 0.5890411  0.32       ... 0.4015748  0.08982036 0.15384615]]\n"
          ],
          "name": "stdout"
        }
      ]
    },
    {
      "cell_type": "code",
      "metadata": {
        "colab": {
          "base_uri": "https://localhost:8080/"
        },
        "id": "cZDD6Q6jiV-q",
        "outputId": "4c978f54-ccae-48ed-c09b-311de45e8bb0"
      },
      "source": [
        "First_Layer_Size = 32 # Number of neurons in first layer\n",
        "model=Sequential()\n",
        "model.add(Dense(First_Layer_Size,activation='tanh', input_shape=(11,)))\n",
        "model.add(Dense(32,activation='tanh'))\n",
        "model.add(Dense(32,activation='tanh'))\n",
        "model.add(Dense(6,activation='softmax'))\n",
        "model.summary()"
      ],
      "execution_count": null,
      "outputs": [
        {
          "output_type": "stream",
          "text": [
            "Model: \"sequential_2\"\n",
            "_________________________________________________________________\n",
            "Layer (type)                 Output Shape              Param #   \n",
            "=================================================================\n",
            "dense_8 (Dense)              (None, 32)                384       \n",
            "_________________________________________________________________\n",
            "dense_9 (Dense)              (None, 32)                1056      \n",
            "_________________________________________________________________\n",
            "dense_10 (Dense)             (None, 32)                1056      \n",
            "_________________________________________________________________\n",
            "dense_11 (Dense)             (None, 6)                 198       \n",
            "=================================================================\n",
            "Total params: 2,694\n",
            "Trainable params: 2,694\n",
            "Non-trainable params: 0\n",
            "_________________________________________________________________\n"
          ],
          "name": "stdout"
        }
      ]
    },
    {
      "cell_type": "code",
      "metadata": {
        "id": "UsOHhLJhibvN"
      },
      "source": [
        "model.compile(loss='categorical_crossentropy', optimizer='adam', metrics=['accuracy'])"
      ],
      "execution_count": null,
      "outputs": []
    },
    {
      "cell_type": "code",
      "metadata": {
        "colab": {
          "base_uri": "https://localhost:8080/"
        },
        "id": "Odv1UeuPifiN",
        "outputId": "97a375aa-a177-4c4b-b38f-1fdbf712b07d"
      },
      "source": [
        "# Write the Training input and output variables, size of the batch, number of epochs\n",
        "history = model.fit(X_train,y_train,batch_size=1,epochs=10,verbose=1)"
      ],
      "execution_count": null,
      "outputs": [
        {
          "output_type": "stream",
          "text": [
            "Epoch 1/10\n",
            "1279/1279 [==============================] - 2s 1ms/step - loss: 1.2191 - accuracy: 0.4569\n",
            "Epoch 2/10\n",
            "1279/1279 [==============================] - 1s 1ms/step - loss: 1.0047 - accuracy: 0.5702\n",
            "Epoch 3/10\n",
            "1279/1279 [==============================] - 1s 1ms/step - loss: 0.9768 - accuracy: 0.5674\n",
            "Epoch 4/10\n",
            "1279/1279 [==============================] - 1s 1ms/step - loss: 0.9569 - accuracy: 0.5681\n",
            "Epoch 5/10\n",
            "1279/1279 [==============================] - 1s 1ms/step - loss: 0.9165 - accuracy: 0.5975\n",
            "Epoch 6/10\n",
            "1279/1279 [==============================] - 1s 1ms/step - loss: 0.9670 - accuracy: 0.5726\n",
            "Epoch 7/10\n",
            "1279/1279 [==============================] - 1s 1ms/step - loss: 0.9466 - accuracy: 0.5618\n",
            "Epoch 8/10\n",
            "1279/1279 [==============================] - 1s 1ms/step - loss: 0.9530 - accuracy: 0.5753\n",
            "Epoch 9/10\n",
            "1279/1279 [==============================] - 1s 1ms/step - loss: 0.9377 - accuracy: 0.6004\n",
            "Epoch 10/10\n",
            "1279/1279 [==============================] - 1s 1ms/step - loss: 0.9659 - accuracy: 0.5721\n"
          ],
          "name": "stdout"
        }
      ]
    },
    {
      "cell_type": "code",
      "metadata": {
        "colab": {
          "base_uri": "https://localhost:8080/"
        },
        "id": "vZuB1MJyjrDQ",
        "outputId": "044a14bf-e304-4a74-98da-5074ffc064b5"
      },
      "source": [
        "# Write the testing input and output variables\n",
        "score = model.evaluate(X_test, y_test, verbose=1)\n",
        "print('Test loss:', score[0])\n",
        "print('Test accuracy:', score[1])"
      ],
      "execution_count": null,
      "outputs": [
        {
          "output_type": "stream",
          "text": [
            "10/10 [==============================] - 0s 1ms/step - loss: 0.9264 - accuracy: 0.6187\n",
            "Test loss: 0.9264217615127563\n",
            "Test accuracy: 0.6187499761581421\n"
          ],
          "name": "stdout"
        }
      ]
    },
    {
      "cell_type": "code",
      "metadata": {
        "colab": {
          "base_uri": "https://localhost:8080/"
        },
        "id": "CuFIoUq-jzm8",
        "outputId": "c1408544-d4e6-4fd4-bf8f-2e9cb8a6459f"
      },
      "source": [
        "# Write the index of the test sample to test\n",
        "prediction = model.predict(X_test[35].reshape(1,11))\n",
        "print(prediction[0])\n",
        "print(np.round(prediction[0]))\n",
        "print(y_test[0])"
      ],
      "execution_count": null,
      "outputs": [
        {
          "output_type": "stream",
          "text": [
            "[4.3296666e-04 7.8502595e-03 1.6516376e-01 5.1110464e-01 3.0484772e-01\n",
            " 1.0600625e-02]\n",
            "[0. 0. 0. 1. 0. 0.]\n",
            "[0. 0. 0. 1. 0. 0.]\n"
          ],
          "name": "stdout"
        }
      ]
    }
  ]
}